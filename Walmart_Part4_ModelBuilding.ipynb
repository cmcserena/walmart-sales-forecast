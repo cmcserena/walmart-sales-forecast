{
 "cells": [
  {
   "cell_type": "code",
   "execution_count": 1,
   "id": "ab064652",
   "metadata": {},
   "outputs": [],
   "source": [
    "#import libraries\n",
    "import pandas as pd\n",
    "import numpy as np\n",
    "\n",
    "import seaborn as sns\n",
    "import matplotlib.pyplot as plt\n",
    "from matplotlib import pyplot\n",
    "\n",
    "import statistics"
   ]
  },
  {
   "cell_type": "code",
   "execution_count": 2,
   "id": "142fb187",
   "metadata": {},
   "outputs": [
    {
     "data": {
      "text/html": [
       "<div>\n",
       "<style scoped>\n",
       "    .dataframe tbody tr th:only-of-type {\n",
       "        vertical-align: middle;\n",
       "    }\n",
       "\n",
       "    .dataframe tbody tr th {\n",
       "        vertical-align: top;\n",
       "    }\n",
       "\n",
       "    .dataframe thead th {\n",
       "        text-align: right;\n",
       "    }\n",
       "</style>\n",
       "<table border=\"1\" class=\"dataframe\">\n",
       "  <thead>\n",
       "    <tr style=\"text-align: right;\">\n",
       "      <th></th>\n",
       "      <th>Store</th>\n",
       "      <th>Dept</th>\n",
       "      <th>Date</th>\n",
       "      <th>Weekly_Sales</th>\n",
       "      <th>IsHoliday</th>\n",
       "      <th>Temperature</th>\n",
       "      <th>Fuel_Price</th>\n",
       "      <th>CPI</th>\n",
       "      <th>Unemployment</th>\n",
       "      <th>Type</th>\n",
       "      <th>Size</th>\n",
       "      <th>Year</th>\n",
       "      <th>Month</th>\n",
       "      <th>Week</th>\n",
       "    </tr>\n",
       "  </thead>\n",
       "  <tbody>\n",
       "    <tr>\n",
       "      <th>0</th>\n",
       "      <td>1</td>\n",
       "      <td>1</td>\n",
       "      <td>2010-02-05</td>\n",
       "      <td>24924.50</td>\n",
       "      <td>False</td>\n",
       "      <td>42.31</td>\n",
       "      <td>2.572</td>\n",
       "      <td>211.096358</td>\n",
       "      <td>8.106</td>\n",
       "      <td>A</td>\n",
       "      <td>151315</td>\n",
       "      <td>2010</td>\n",
       "      <td>2</td>\n",
       "      <td>5</td>\n",
       "    </tr>\n",
       "    <tr>\n",
       "      <th>1</th>\n",
       "      <td>1</td>\n",
       "      <td>2</td>\n",
       "      <td>2010-02-05</td>\n",
       "      <td>50605.27</td>\n",
       "      <td>False</td>\n",
       "      <td>42.31</td>\n",
       "      <td>2.572</td>\n",
       "      <td>211.096358</td>\n",
       "      <td>8.106</td>\n",
       "      <td>A</td>\n",
       "      <td>151315</td>\n",
       "      <td>2010</td>\n",
       "      <td>2</td>\n",
       "      <td>5</td>\n",
       "    </tr>\n",
       "    <tr>\n",
       "      <th>2</th>\n",
       "      <td>1</td>\n",
       "      <td>3</td>\n",
       "      <td>2010-02-05</td>\n",
       "      <td>13740.12</td>\n",
       "      <td>False</td>\n",
       "      <td>42.31</td>\n",
       "      <td>2.572</td>\n",
       "      <td>211.096358</td>\n",
       "      <td>8.106</td>\n",
       "      <td>A</td>\n",
       "      <td>151315</td>\n",
       "      <td>2010</td>\n",
       "      <td>2</td>\n",
       "      <td>5</td>\n",
       "    </tr>\n",
       "    <tr>\n",
       "      <th>3</th>\n",
       "      <td>1</td>\n",
       "      <td>4</td>\n",
       "      <td>2010-02-05</td>\n",
       "      <td>39954.04</td>\n",
       "      <td>False</td>\n",
       "      <td>42.31</td>\n",
       "      <td>2.572</td>\n",
       "      <td>211.096358</td>\n",
       "      <td>8.106</td>\n",
       "      <td>A</td>\n",
       "      <td>151315</td>\n",
       "      <td>2010</td>\n",
       "      <td>2</td>\n",
       "      <td>5</td>\n",
       "    </tr>\n",
       "    <tr>\n",
       "      <th>4</th>\n",
       "      <td>1</td>\n",
       "      <td>5</td>\n",
       "      <td>2010-02-05</td>\n",
       "      <td>32229.38</td>\n",
       "      <td>False</td>\n",
       "      <td>42.31</td>\n",
       "      <td>2.572</td>\n",
       "      <td>211.096358</td>\n",
       "      <td>8.106</td>\n",
       "      <td>A</td>\n",
       "      <td>151315</td>\n",
       "      <td>2010</td>\n",
       "      <td>2</td>\n",
       "      <td>5</td>\n",
       "    </tr>\n",
       "  </tbody>\n",
       "</table>\n",
       "</div>"
      ],
      "text/plain": [
       "   Store  Dept       Date  Weekly_Sales  IsHoliday  Temperature  Fuel_Price  \\\n",
       "0      1     1 2010-02-05      24924.50      False        42.31       2.572   \n",
       "1      1     2 2010-02-05      50605.27      False        42.31       2.572   \n",
       "2      1     3 2010-02-05      13740.12      False        42.31       2.572   \n",
       "3      1     4 2010-02-05      39954.04      False        42.31       2.572   \n",
       "4      1     5 2010-02-05      32229.38      False        42.31       2.572   \n",
       "\n",
       "          CPI  Unemployment Type    Size  Year  Month  Week  \n",
       "0  211.096358         8.106    A  151315  2010      2     5  \n",
       "1  211.096358         8.106    A  151315  2010      2     5  \n",
       "2  211.096358         8.106    A  151315  2010      2     5  \n",
       "3  211.096358         8.106    A  151315  2010      2     5  \n",
       "4  211.096358         8.106    A  151315  2010      2     5  "
      ]
     },
     "execution_count": 2,
     "metadata": {},
     "output_type": "execute_result"
    }
   ],
   "source": [
    "data = pd.read_csv('datasets/data.csv',index_col=0)\n",
    "data['Date'] = pd.to_datetime(data['Date'])\n",
    "data.head()"
   ]
  },
  {
   "cell_type": "markdown",
   "id": "7babf131",
   "metadata": {},
   "source": [
    "## Train/test data split"
   ]
  },
  {
   "cell_type": "code",
   "execution_count": 3,
   "id": "3bc38183",
   "metadata": {},
   "outputs": [],
   "source": [
    "#Encoding categorical variables\n",
    "data['IsHoliday'] = [1 if x == True else 0 for x in data['IsHoliday']]"
   ]
  },
  {
   "cell_type": "code",
   "execution_count": 4,
   "id": "f8e927db",
   "metadata": {},
   "outputs": [],
   "source": [
    "data_dummies=pd.get_dummies(data,drop_first=True)"
   ]
  },
  {
   "cell_type": "code",
   "execution_count": 5,
   "id": "c96f165c",
   "metadata": {},
   "outputs": [
    {
     "data": {
      "text/html": [
       "<div>\n",
       "<style scoped>\n",
       "    .dataframe tbody tr th:only-of-type {\n",
       "        vertical-align: middle;\n",
       "    }\n",
       "\n",
       "    .dataframe tbody tr th {\n",
       "        vertical-align: top;\n",
       "    }\n",
       "\n",
       "    .dataframe thead th {\n",
       "        text-align: right;\n",
       "    }\n",
       "</style>\n",
       "<table border=\"1\" class=\"dataframe\">\n",
       "  <thead>\n",
       "    <tr style=\"text-align: right;\">\n",
       "      <th></th>\n",
       "      <th>Store</th>\n",
       "      <th>Dept</th>\n",
       "      <th>Date</th>\n",
       "      <th>Weekly_Sales</th>\n",
       "      <th>IsHoliday</th>\n",
       "      <th>Temperature</th>\n",
       "      <th>Fuel_Price</th>\n",
       "      <th>CPI</th>\n",
       "      <th>Unemployment</th>\n",
       "      <th>Size</th>\n",
       "      <th>Year</th>\n",
       "      <th>Month</th>\n",
       "      <th>Week</th>\n",
       "      <th>Type_B</th>\n",
       "      <th>Type_C</th>\n",
       "    </tr>\n",
       "  </thead>\n",
       "  <tbody>\n",
       "    <tr>\n",
       "      <th>0</th>\n",
       "      <td>1</td>\n",
       "      <td>1</td>\n",
       "      <td>2010-02-05</td>\n",
       "      <td>24924.50</td>\n",
       "      <td>0</td>\n",
       "      <td>42.31</td>\n",
       "      <td>2.572</td>\n",
       "      <td>211.096358</td>\n",
       "      <td>8.106</td>\n",
       "      <td>151315</td>\n",
       "      <td>2010</td>\n",
       "      <td>2</td>\n",
       "      <td>5</td>\n",
       "      <td>0</td>\n",
       "      <td>0</td>\n",
       "    </tr>\n",
       "    <tr>\n",
       "      <th>1</th>\n",
       "      <td>1</td>\n",
       "      <td>2</td>\n",
       "      <td>2010-02-05</td>\n",
       "      <td>50605.27</td>\n",
       "      <td>0</td>\n",
       "      <td>42.31</td>\n",
       "      <td>2.572</td>\n",
       "      <td>211.096358</td>\n",
       "      <td>8.106</td>\n",
       "      <td>151315</td>\n",
       "      <td>2010</td>\n",
       "      <td>2</td>\n",
       "      <td>5</td>\n",
       "      <td>0</td>\n",
       "      <td>0</td>\n",
       "    </tr>\n",
       "    <tr>\n",
       "      <th>2</th>\n",
       "      <td>1</td>\n",
       "      <td>3</td>\n",
       "      <td>2010-02-05</td>\n",
       "      <td>13740.12</td>\n",
       "      <td>0</td>\n",
       "      <td>42.31</td>\n",
       "      <td>2.572</td>\n",
       "      <td>211.096358</td>\n",
       "      <td>8.106</td>\n",
       "      <td>151315</td>\n",
       "      <td>2010</td>\n",
       "      <td>2</td>\n",
       "      <td>5</td>\n",
       "      <td>0</td>\n",
       "      <td>0</td>\n",
       "    </tr>\n",
       "    <tr>\n",
       "      <th>3</th>\n",
       "      <td>1</td>\n",
       "      <td>4</td>\n",
       "      <td>2010-02-05</td>\n",
       "      <td>39954.04</td>\n",
       "      <td>0</td>\n",
       "      <td>42.31</td>\n",
       "      <td>2.572</td>\n",
       "      <td>211.096358</td>\n",
       "      <td>8.106</td>\n",
       "      <td>151315</td>\n",
       "      <td>2010</td>\n",
       "      <td>2</td>\n",
       "      <td>5</td>\n",
       "      <td>0</td>\n",
       "      <td>0</td>\n",
       "    </tr>\n",
       "    <tr>\n",
       "      <th>4</th>\n",
       "      <td>1</td>\n",
       "      <td>5</td>\n",
       "      <td>2010-02-05</td>\n",
       "      <td>32229.38</td>\n",
       "      <td>0</td>\n",
       "      <td>42.31</td>\n",
       "      <td>2.572</td>\n",
       "      <td>211.096358</td>\n",
       "      <td>8.106</td>\n",
       "      <td>151315</td>\n",
       "      <td>2010</td>\n",
       "      <td>2</td>\n",
       "      <td>5</td>\n",
       "      <td>0</td>\n",
       "      <td>0</td>\n",
       "    </tr>\n",
       "  </tbody>\n",
       "</table>\n",
       "</div>"
      ],
      "text/plain": [
       "   Store  Dept       Date  Weekly_Sales  IsHoliday  Temperature  Fuel_Price  \\\n",
       "0      1     1 2010-02-05      24924.50          0        42.31       2.572   \n",
       "1      1     2 2010-02-05      50605.27          0        42.31       2.572   \n",
       "2      1     3 2010-02-05      13740.12          0        42.31       2.572   \n",
       "3      1     4 2010-02-05      39954.04          0        42.31       2.572   \n",
       "4      1     5 2010-02-05      32229.38          0        42.31       2.572   \n",
       "\n",
       "          CPI  Unemployment    Size  Year  Month  Week  Type_B  Type_C  \n",
       "0  211.096358         8.106  151315  2010      2     5       0       0  \n",
       "1  211.096358         8.106  151315  2010      2     5       0       0  \n",
       "2  211.096358         8.106  151315  2010      2     5       0       0  \n",
       "3  211.096358         8.106  151315  2010      2     5       0       0  \n",
       "4  211.096358         8.106  151315  2010      2     5       0       0  "
      ]
     },
     "execution_count": 5,
     "metadata": {},
     "output_type": "execute_result"
    }
   ],
   "source": [
    "data_dummies.head()"
   ]
  },
  {
   "cell_type": "code",
   "execution_count": 6,
   "id": "8d67f7b8",
   "metadata": {},
   "outputs": [],
   "source": [
    "X = data_dummies.drop(columns=['Weekly_Sales','Date'])\n",
    "y = data_dummies['Weekly_Sales']"
   ]
  },
  {
   "cell_type": "code",
   "execution_count": 7,
   "id": "144696a3",
   "metadata": {},
   "outputs": [
    {
     "data": {
      "text/plain": [
       "(421570, 13)"
      ]
     },
     "execution_count": 7,
     "metadata": {},
     "output_type": "execute_result"
    }
   ],
   "source": [
    "X.shape"
   ]
  },
  {
   "cell_type": "code",
   "execution_count": 8,
   "id": "6f441739",
   "metadata": {},
   "outputs": [
    {
     "data": {
      "text/plain": [
       "(421570,)"
      ]
     },
     "execution_count": 8,
     "metadata": {},
     "output_type": "execute_result"
    }
   ],
   "source": [
    "y.shape"
   ]
  },
  {
   "cell_type": "code",
   "execution_count": 9,
   "id": "c68d89aa",
   "metadata": {},
   "outputs": [],
   "source": [
    "from sklearn.model_selection import train_test_split\n",
    "X_train, X_test, y_train, y_test = train_test_split(X, y, test_size = 0.25)"
   ]
  },
  {
   "cell_type": "code",
   "execution_count": 10,
   "id": "2af9a2ac",
   "metadata": {},
   "outputs": [
    {
     "name": "stdout",
     "output_type": "stream",
     "text": [
      "316177 105393 316177 105393\n"
     ]
    }
   ],
   "source": [
    "print(len(X_train),len(X_test),len(y_train),len(y_test))"
   ]
  },
  {
   "cell_type": "markdown",
   "id": "f28adaec",
   "metadata": {},
   "source": [
    "## Feature Scaling"
   ]
  },
  {
   "cell_type": "code",
   "execution_count": 11,
   "id": "cb410277",
   "metadata": {},
   "outputs": [],
   "source": [
    "from sklearn.preprocessing import MinMaxScaler\n",
    "scaler = MinMaxScaler()\n",
    "X_train = scaler.fit_transform(X_train)\n",
    "X_test = scaler.transform(X_test)\n",
    "np.set_printoptions(precision=5)"
   ]
  },
  {
   "cell_type": "markdown",
   "id": "eb4399b0",
   "metadata": {},
   "source": [
    "## Model building"
   ]
  },
  {
   "cell_type": "markdown",
   "id": "cb6dc11c",
   "metadata": {},
   "source": [
    "#### Decision Tree Regressor"
   ]
  },
  {
   "cell_type": "code",
   "execution_count": 12,
   "id": "80d085d1",
   "metadata": {},
   "outputs": [],
   "source": [
    "from sklearn.tree import DecisionTreeRegressor\n",
    "dt = DecisionTreeRegressor(random_state=0)\n",
    "dt.fit(X_train, y_train)\n",
    "y_pred_dt = dt.predict(X_test)"
   ]
  },
  {
   "cell_type": "code",
   "execution_count": 13,
   "id": "7cd7186a",
   "metadata": {},
   "outputs": [
    {
     "name": "stdout",
     "output_type": "stream",
     "text": [
      "Mean absolute error: 1866.08\n",
      "Mean squared error: 24282499.13\n",
      "Root Mean squared error: 4927.73\n",
      "Variance score: 0.95\n"
     ]
    }
   ],
   "source": [
    "from sklearn.metrics import mean_squared_error, r2_score, mean_absolute_error\n",
    "import math\n",
    "\n",
    "print(f\"Mean absolute error:{mean_absolute_error(y_test, y_pred_dt): .2f}\")\n",
    "print(f\"Mean squared error:{mean_squared_error(y_test, y_pred_dt): .2f}\")\n",
    "print(f\"Root Mean squared error: {math.sqrt(mean_squared_error(y_test, y_pred_dt)) :.2f}\")\n",
    "print(f'Variance score: {r2_score(y_test, y_pred_dt):.2f}')"
   ]
  },
  {
   "cell_type": "markdown",
   "id": "82bed844",
   "metadata": {},
   "source": [
    "#### Random Forest Regressor"
   ]
  },
  {
   "cell_type": "code",
   "execution_count": 14,
   "id": "f2510d5d",
   "metadata": {},
   "outputs": [],
   "source": [
    "from sklearn.ensemble import RandomForestRegressor\n",
    "rf = RandomForestRegressor(random_state=0)\n",
    "rf.fit(X_train, y_train)\n",
    "y_pred_rf = rf.predict(X_test)"
   ]
  },
  {
   "cell_type": "code",
   "execution_count": 15,
   "id": "0683a6e0",
   "metadata": {},
   "outputs": [
    {
     "name": "stdout",
     "output_type": "stream",
     "text": [
      "Mean absolute error: 1441.77\n",
      "Mean squared error: 14276709.34\n",
      "Root Mean squared error: 3778.45\n",
      "Variance score: 0.97\n"
     ]
    }
   ],
   "source": [
    "from sklearn.metrics import mean_squared_error, r2_score, mean_absolute_error\n",
    "import math\n",
    "\n",
    "print(f\"Mean absolute error:{mean_absolute_error(y_test, y_pred_rf): .2f}\")\n",
    "print(f\"Mean squared error:{mean_squared_error(y_test, y_pred_rf): .2f}\")\n",
    "print(f\"Root Mean squared error: {math.sqrt(mean_squared_error(y_test, y_pred_rf)) :.2f}\")\n",
    "print(f'Variance score: {r2_score(y_test, y_pred_rf):.2f}')"
   ]
  },
  {
   "cell_type": "markdown",
   "id": "f34de35f",
   "metadata": {},
   "source": [
    "#### XGBoost Regressor"
   ]
  },
  {
   "cell_type": "code",
   "execution_count": 16,
   "id": "2a9c3cee",
   "metadata": {
    "scrolled": true
   },
   "outputs": [],
   "source": [
    "from xgboost import XGBRegressor\n",
    "xg = XGBRegressor()\n",
    "xg.fit(X_train, y_train)\n",
    "y_pred_xg = xg.predict(X_test)"
   ]
  },
  {
   "cell_type": "code",
   "execution_count": 17,
   "id": "011fb8b9",
   "metadata": {},
   "outputs": [
    {
     "name": "stdout",
     "output_type": "stream",
     "text": [
      "Mean absolute error: 2949.10\n",
      "Mean squared error: 29770585.84\n",
      "Root Mean squared error: 5456.24\n",
      "Variance score: 0.94\n"
     ]
    }
   ],
   "source": [
    "from sklearn.metrics import mean_squared_error, r2_score, mean_absolute_error\n",
    "import math\n",
    "\n",
    "print(f\"Mean absolute error:{mean_absolute_error(y_test, y_pred_xg): .2f}\")\n",
    "print(f\"Mean squared error:{mean_squared_error(y_test, y_pred_xg): .2f}\")\n",
    "print(f\"Root Mean squared error: {math.sqrt(mean_squared_error(y_test, y_pred_xg)) :.2f}\")\n",
    "print(f'Variance score: {r2_score(y_test, y_pred_xg):.2f}')"
   ]
  },
  {
   "cell_type": "markdown",
   "id": "3c05faaf",
   "metadata": {},
   "source": [
    "#### Linear Regression"
   ]
  },
  {
   "cell_type": "code",
   "execution_count": 18,
   "id": "3d68274b",
   "metadata": {},
   "outputs": [],
   "source": [
    "from sklearn.linear_model import LinearRegression\n",
    "lr = LinearRegression()\n",
    "lr.fit(X_train, y_train)\n",
    "y_pred_lr = lr.predict(X_test)"
   ]
  },
  {
   "cell_type": "code",
   "execution_count": 19,
   "id": "43ce3c91",
   "metadata": {},
   "outputs": [
    {
     "name": "stdout",
     "output_type": "stream",
     "text": [
      "Mean absolute error: 14569.17\n",
      "Mean squared error: 477646006.66\n",
      "Root Mean squared error: 21855.11\n",
      "Variance score: 0.09\n"
     ]
    }
   ],
   "source": [
    "print(f\"Mean absolute error:{mean_absolute_error(y_test, y_pred_lr): .2f}\")\n",
    "print(f\"Mean squared error:{mean_squared_error(y_test, y_pred_lr): .2f}\")\n",
    "print(f\"Root Mean squared error: {math.sqrt(mean_squared_error(y_test, y_pred_lr)) :.2f}\")\n",
    "print(f'Variance score: {r2_score(y_test, y_pred_lr):.2f}')"
   ]
  },
  {
   "cell_type": "markdown",
   "id": "096ef4fc",
   "metadata": {},
   "source": [
    "#### Lasso Regression"
   ]
  },
  {
   "cell_type": "code",
   "execution_count": 20,
   "id": "7868ab4f",
   "metadata": {},
   "outputs": [],
   "source": [
    "from sklearn.linear_model import Lasso\n",
    "lasso = Lasso()\n",
    "lasso.fit(X_train,y_train)\n",
    "y_pred_lasso = lasso.predict(X_test)"
   ]
  },
  {
   "cell_type": "code",
   "execution_count": 21,
   "id": "23b61949",
   "metadata": {},
   "outputs": [
    {
     "name": "stdout",
     "output_type": "stream",
     "text": [
      "Mean absolute error: 14567.96\n",
      "Mean squared error: 477640670.00\n",
      "Root Mean squared error: 21854.99\n",
      "Variance score: 0.09\n"
     ]
    }
   ],
   "source": [
    "print(f\"Mean absolute error:{mean_absolute_error(y_test, y_pred_lasso): .2f}\")\n",
    "print(f\"Mean squared error:{mean_squared_error(y_test, y_pred_lasso): .2f}\")\n",
    "print(f\"Root Mean squared error: {math.sqrt(mean_squared_error(y_test, y_pred_lasso)) :.2f}\")\n",
    "print(f'Variance score: {r2_score(y_test, y_pred_lasso):.2f}')"
   ]
  },
  {
   "cell_type": "markdown",
   "id": "ffaa606e",
   "metadata": {},
   "source": [
    "#### Gradient Boosting Regressor"
   ]
  },
  {
   "cell_type": "code",
   "execution_count": 22,
   "id": "47e5a4fa",
   "metadata": {},
   "outputs": [],
   "source": [
    "from sklearn.ensemble import GradientBoostingRegressor\n",
    "gb = GradientBoostingRegressor()\n",
    "gb.fit(X_train, y_train)\n",
    "y_pred_gb = gb.predict(X_test)"
   ]
  },
  {
   "cell_type": "code",
   "execution_count": 23,
   "id": "5fc3dc42",
   "metadata": {},
   "outputs": [
    {
     "name": "stdout",
     "output_type": "stream",
     "text": [
      "Mean absolute error: 6764.14\n",
      "Mean squared error: 136646566.56\n",
      "Root Mean squared error: 11689.59\n",
      "Variance score: 0.74\n"
     ]
    }
   ],
   "source": [
    "print(f\"Mean absolute error:{mean_absolute_error(y_test, y_pred_gb): .2f}\")\n",
    "print(f\"Mean squared error:{mean_squared_error(y_test, y_pred_gb): .2f}\")\n",
    "print(f\"Root Mean squared error: {math.sqrt(mean_squared_error(y_test, y_pred_gb)) :.2f}\")\n",
    "print(f'Variance score: {r2_score(y_test, y_pred_gb):.2f}')"
   ]
  },
  {
   "cell_type": "markdown",
   "id": "163b74c4",
   "metadata": {},
   "source": [
    "#### AdaBoost Regressor"
   ]
  },
  {
   "cell_type": "code",
   "execution_count": 24,
   "id": "9f0df14f",
   "metadata": {},
   "outputs": [],
   "source": [
    "from sklearn.ensemble import AdaBoostRegressor\n",
    "ada = AdaBoostRegressor()\n",
    "ada.fit(X_train, y_train)\n",
    "y_pred_ada = ada.predict(X_test)"
   ]
  },
  {
   "cell_type": "code",
   "execution_count": 25,
   "id": "d5f6bcf0",
   "metadata": {},
   "outputs": [
    {
     "name": "stdout",
     "output_type": "stream",
     "text": [
      "Mean absolute error: 17383.95\n",
      "Mean squared error: 465100050.92\n",
      "Root Mean squared error: 21566.18\n",
      "Variance score: 0.11\n"
     ]
    }
   ],
   "source": [
    "print(f\"Mean absolute error:{mean_absolute_error(y_test, y_pred_ada): .2f}\")\n",
    "print(f\"Mean squared error:{mean_squared_error(y_test, y_pred_ada): .2f}\")\n",
    "print(f\"Root Mean squared error: {math.sqrt(mean_squared_error(y_test, y_pred_ada)) :.2f}\")\n",
    "print(f'Variance score: {r2_score(y_test, y_pred_ada):.2f}')"
   ]
  },
  {
   "cell_type": "markdown",
   "id": "89b77006",
   "metadata": {},
   "source": [
    "## PCA"
   ]
  },
  {
   "cell_type": "code",
   "execution_count": 26,
   "id": "100f31fc",
   "metadata": {},
   "outputs": [],
   "source": [
    "#Applying PCA\n",
    "from sklearn.decomposition import PCA\n",
    "pca = PCA(0.95)\n",
    "X_train_pca = pca.fit_transform(X_train)\n",
    "X_test_pca = pca.transform(X_test)"
   ]
  },
  {
   "cell_type": "markdown",
   "id": "e08911c8",
   "metadata": {},
   "source": [
    "#### Decision Tree + PCA"
   ]
  },
  {
   "cell_type": "code",
   "execution_count": 27,
   "id": "b3b7aff8",
   "metadata": {},
   "outputs": [],
   "source": [
    "#Training the Decision Tree regression model\n",
    "from sklearn.tree import DecisionTreeRegressor\n",
    "dt_pca = DecisionTreeRegressor(random_state=0)\n",
    "dt_pca.fit(X_train_pca, y_train)\n",
    "y_pred_dt_pca = dt_pca.predict(X_test_pca)"
   ]
  },
  {
   "cell_type": "code",
   "execution_count": 28,
   "id": "55c86dae",
   "metadata": {},
   "outputs": [
    {
     "name": "stdout",
     "output_type": "stream",
     "text": [
      "Mean absolute error: 3092.85\n",
      "Mean squared error: 99903935.62\n",
      "Root Mean squared error: 9995.20\n",
      "Variance score: 0.81\n"
     ]
    }
   ],
   "source": [
    "from sklearn.metrics import mean_squared_error, r2_score, mean_absolute_error\n",
    "import math\n",
    "\n",
    "print(f\"Mean absolute error:{mean_absolute_error(y_test, y_pred_dt_pca): .2f}\")\n",
    "print(f\"Mean squared error:{mean_squared_error(y_test, y_pred_dt_pca): .2f}\")\n",
    "print(f\"Root Mean squared error: {math.sqrt(mean_squared_error(y_test, y_pred_dt_pca)) :.2f}\")\n",
    "print(f'Variance score: {r2_score(y_test, y_pred_dt_pca):.2f}')"
   ]
  },
  {
   "cell_type": "markdown",
   "id": "6d18e685",
   "metadata": {},
   "source": [
    "#### Random Forest + PCA"
   ]
  },
  {
   "cell_type": "code",
   "execution_count": 29,
   "id": "dd56cff2",
   "metadata": {},
   "outputs": [],
   "source": [
    "#Training the Random Forest regression model\n",
    "from sklearn.ensemble import RandomForestRegressor\n",
    "rf_pca = RandomForestRegressor(random_state=0)\n",
    "rf_pca.fit(X_train_pca, y_train)\n",
    "y_pred_rf_pca = rf_pca.predict(X_test_pca)"
   ]
  },
  {
   "cell_type": "code",
   "execution_count": 30,
   "id": "338de7bd",
   "metadata": {},
   "outputs": [
    {
     "name": "stdout",
     "output_type": "stream",
     "text": [
      "Mean absolute error: 2510.81\n",
      "Mean squared error: 53907718.50\n",
      "Root Mean squared error: 7342.19\n",
      "Variance score: 0.90\n"
     ]
    }
   ],
   "source": [
    "from sklearn.metrics import mean_squared_error, r2_score, mean_absolute_error\n",
    "import math\n",
    "\n",
    "print(f\"Mean absolute error:{mean_absolute_error(y_test, y_pred_rf_pca): .2f}\")\n",
    "print(f\"Mean squared error:{mean_squared_error(y_test, y_pred_rf_pca): .2f}\")\n",
    "print(f\"Root Mean squared error: {math.sqrt(mean_squared_error(y_test, y_pred_rf_pca)) :.2f}\")\n",
    "print(f'Variance score: {r2_score(y_test, y_pred_rf_pca):.2f}')"
   ]
  },
  {
   "cell_type": "markdown",
   "id": "4336ba6e",
   "metadata": {},
   "source": [
    "#### XGBoost + PCA"
   ]
  },
  {
   "cell_type": "code",
   "execution_count": 31,
   "id": "014ed59a",
   "metadata": {},
   "outputs": [],
   "source": [
    "#Training the XGBRegressor regression model\n",
    "from xgboost import XGBRegressor\n",
    "xg_pca = XGBRegressor()\n",
    "xg_pca.fit(X_train_pca, y_train)\n",
    "y_pred_xg_pca = xg_pca.predict(X_test_pca)"
   ]
  },
  {
   "cell_type": "code",
   "execution_count": 32,
   "id": "7bf93817",
   "metadata": {},
   "outputs": [
    {
     "name": "stdout",
     "output_type": "stream",
     "text": [
      "Mean absolute error: 7064.44\n",
      "Mean squared error: 148850501.15\n",
      "Root Mean squared error: 12200.43\n",
      "Variance score: 0.72\n"
     ]
    }
   ],
   "source": [
    "from sklearn.metrics import mean_squared_error, r2_score, mean_absolute_error\n",
    "import math\n",
    "\n",
    "print(f\"Mean absolute error:{mean_absolute_error(y_test, y_pred_xg_pca): .2f}\")\n",
    "print(f\"Mean squared error:{mean_squared_error(y_test, y_pred_xg_pca): .2f}\")\n",
    "print(f\"Root Mean squared error: {math.sqrt(mean_squared_error(y_test, y_pred_xg_pca)) :.2f}\")\n",
    "print(f'Variance score: {r2_score(y_test, y_pred_xg_pca):.2f}')\n"
   ]
  },
  {
   "cell_type": "markdown",
   "id": "171c5ace",
   "metadata": {},
   "source": [
    "## Feature Importance"
   ]
  },
  {
   "cell_type": "markdown",
   "id": "43af905a",
   "metadata": {},
   "source": [
    "#### Feature Importance + Decision Tree"
   ]
  },
  {
   "cell_type": "code",
   "execution_count": 33,
   "id": "d452a261",
   "metadata": {},
   "outputs": [
    {
     "data": {
      "image/png": "[encoded data removed]",
      "text/plain": [
       "<Figure size 360x720 with 1 Axes>"
      ]
     },
     "metadata": {
      "needs_background": "light"
     },
     "output_type": "display_data"
    }
   ],
   "source": [
    "#feature importance on Decision Tree\n",
    "plt.figure(figsize=(5,10))\n",
    "sorted_idx_dt = dt.feature_importances_.argsort()\n",
    "plt.barh(X.columns[sorted_idx_dt],dt.feature_importances_[sorted_idx_dt],color='#FFC100')\n",
    "\n",
    "for index, value in enumerate(dt.feature_importances_[sorted_idx_dt]):\n",
    "    plt.text(value, index,\n",
    "             str(round(value,2)))\n",
    "\n",
    "plt.rcParams.update({'font.size': 20})\n",
    "for spine in plt.gca().spines.values():\n",
    "    spine.set_visible(False)\n",
    "plt.savefig('Top 5 feature importance on Decision Tree.png', bbox_inches='tight')\n",
    "plt.show()"
   ]
  },
  {
   "cell_type": "code",
   "execution_count": 34,
   "id": "f58ecc6a",
   "metadata": {},
   "outputs": [],
   "source": [
    "X_dt = data_dummies[['Dept','Size','Store','Week','CPI']]\n",
    "y_dt = data_dummies['Weekly_Sales']"
   ]
  },
  {
   "cell_type": "code",
   "execution_count": 35,
   "id": "e77af17f",
   "metadata": {},
   "outputs": [],
   "source": [
    "from sklearn.model_selection import train_test_split\n",
    "X_dt_train, X_dt_test, y_dt_train, y_dt_test = train_test_split(X_dt, y_dt, test_size = 0.25)"
   ]
  },
  {
   "cell_type": "code",
   "execution_count": 36,
   "id": "f985fda7",
   "metadata": {},
   "outputs": [],
   "source": [
    "from sklearn.preprocessing import MinMaxScaler\n",
    "scaler = MinMaxScaler()\n",
    "X_dt_train = scaler.fit_transform(X_dt_train)\n",
    "X_dt_test = scaler.transform(X_dt_test)\n",
    "np.set_printoptions(precision=5)"
   ]
  },
  {
   "cell_type": "code",
   "execution_count": 37,
   "id": "cd64b897",
   "metadata": {},
   "outputs": [],
   "source": [
    "from sklearn.tree import DecisionTreeRegressor\n",
    "dt_fi = DecisionTreeRegressor()#random_state=42\n",
    "dt_fi.fit(X_dt_train, y_dt_train)\n",
    "y_pred_dt_fi = dt_fi.predict(X_dt_test)"
   ]
  },
  {
   "cell_type": "code",
   "execution_count": 38,
   "id": "70777d41",
   "metadata": {},
   "outputs": [
    {
     "name": "stdout",
     "output_type": "stream",
     "text": [
      "Mean absolute error: 1766.60\n",
      "Mean squared error: 22698327.54\n",
      "Root Mean squared error: 4764.28\n",
      "Variance score: 0.96\n"
     ]
    }
   ],
   "source": [
    "from sklearn.metrics import mean_squared_error, r2_score, mean_absolute_error\n",
    "import math\n",
    "\n",
    "print(f\"Mean absolute error:{mean_absolute_error(y_dt_test, y_pred_dt_fi): .2f}\")\n",
    "print(f\"Mean squared error:{mean_squared_error(y_dt_test, y_pred_dt_fi): .2f}\")\n",
    "print(f\"Root Mean squared error: {math.sqrt(mean_squared_error(y_dt_test, y_pred_dt_fi)) :.2f}\")\n",
    "print(f'Variance score: {r2_score(y_dt_test, y_pred_dt_fi):.2f}')"
   ]
  },
  {
   "cell_type": "markdown",
   "id": "9f0ac78d",
   "metadata": {},
   "source": [
    "#### Feature Importance + Random Forest"
   ]
  },
  {
   "cell_type": "code",
   "execution_count": 39,
   "id": "2693bade",
   "metadata": {},
   "outputs": [
    {
     "data": {
      "image/png": "[encoded data removed]",
      "text/plain": [
       "<Figure size 360x720 with 1 Axes>"
      ]
     },
     "metadata": {
      "needs_background": "light"
     },
     "output_type": "display_data"
    }
   ],
   "source": [
    "#feature importance on Random Forest\n",
    "plt.figure(figsize=(5,10))\n",
    "sorted_idx_rf = rf.feature_importances_.argsort()\n",
    "sorted_idx_rf = sorted_idx_rf\n",
    "plt.barh(X.columns[sorted_idx_rf],rf.feature_importances_[sorted_idx_rf],color='#FFC100')\n",
    "\n",
    "for index, value in enumerate(rf.feature_importances_[sorted_idx_rf]):\n",
    "    plt.text(value, index,\n",
    "             str(round(value,2)))\n",
    "\n",
    "plt.rcParams.update({'font.size': 20})\n",
    "for spine in plt.gca().spines.values():\n",
    "    spine.set_visible(False)\n",
    "plt.savefig('Top 5 feature importance on Random Forest.png', bbox_inches='tight')\n",
    "plt.show()"
   ]
  },
  {
   "cell_type": "code",
   "execution_count": 40,
   "id": "3c6e226a",
   "metadata": {},
   "outputs": [],
   "source": [
    "X_rf = data_dummies[['Dept','Size','Store','Week','CPI']]\n",
    "y_rf = data_dummies['Weekly_Sales']"
   ]
  },
  {
   "cell_type": "code",
   "execution_count": 41,
   "id": "8e75a28f",
   "metadata": {},
   "outputs": [],
   "source": [
    "from sklearn.model_selection import train_test_split\n",
    "X_rf_train, X_rf_test, y_rf_train, y_rf_test = train_test_split(X_rf, y_rf, test_size = 0.25)"
   ]
  },
  {
   "cell_type": "code",
   "execution_count": 42,
   "id": "97bb4567",
   "metadata": {},
   "outputs": [],
   "source": [
    "from sklearn.preprocessing import MinMaxScaler\n",
    "scaler = MinMaxScaler()\n",
    "X_rf_train = scaler.fit_transform(X_rf_train)\n",
    "X_rf_test = scaler.transform(X_rf_test)\n",
    "np.set_printoptions(precision=5)"
   ]
  },
  {
   "cell_type": "code",
   "execution_count": 43,
   "id": "ce72300b",
   "metadata": {},
   "outputs": [],
   "source": [
    "#Training the Random Forest regression model\n",
    "from sklearn.ensemble import RandomForestRegressor\n",
    "rf_fi = RandomForestRegressor()\n",
    "rf_fi.fit(X_rf_train, y_rf_train)\n",
    "y_pred_rf_fi = rf_fi.predict(X_rf_test)"
   ]
  },
  {
   "cell_type": "code",
   "execution_count": 44,
   "id": "fec38c7e",
   "metadata": {},
   "outputs": [
    {
     "name": "stdout",
     "output_type": "stream",
     "text": [
      "Mean absolute error: 1426.79\n",
      "Mean squared error: 12234154.68\n",
      "Root Mean squared error: 3497.74\n",
      "Variance score: 0.98\n"
     ]
    }
   ],
   "source": [
    "from sklearn.metrics import mean_squared_error, r2_score, mean_absolute_error\n",
    "import math\n",
    "\n",
    "print(f\"Mean absolute error:{mean_absolute_error(y_rf_test, y_pred_rf_fi): .2f}\")\n",
    "print(f\"Mean squared error:{mean_squared_error(y_rf_test, y_pred_rf_fi): .2f}\")\n",
    "print(f\"Root Mean squared error: {math.sqrt(mean_squared_error(y_rf_test, y_pred_rf_fi)) :.2f}\")\n",
    "print(f'Variance score: {r2_score(y_rf_test, y_pred_rf_fi):.2f}')"
   ]
  },
  {
   "cell_type": "markdown",
   "id": "ad29acae",
   "metadata": {},
   "source": [
    "#### Feature Importance + XGBoost"
   ]
  },
  {
   "cell_type": "code",
   "execution_count": 45,
   "id": "155e8c31",
   "metadata": {},
   "outputs": [
    {
     "data": {
      "image/png": "[encoded data removed]",
      "text/plain": [
       "<Figure size 360x720 with 1 Axes>"
      ]
     },
     "metadata": {
      "needs_background": "light"
     },
     "output_type": "display_data"
    }
   ],
   "source": [
    "#feature importance on XGBoost\n",
    "plt.figure(figsize=(5,10))\n",
    "sorted_idx_xg = xg.feature_importances_.argsort()\n",
    "plt.barh(X.columns[sorted_idx_xg],xg.feature_importances_[sorted_idx_xg],color='#FFC100')\n",
    "\n",
    "for index, value in enumerate(xg.feature_importances_[sorted_idx_xg]):\n",
    "    plt.text(value, index,\n",
    "             str(round(value,2)))\n",
    "\n",
    "plt.rcParams.update({'font.size': 20})\n",
    "for spine in plt.gca().spines.values():\n",
    "    spine.set_visible(False)\n",
    "plt.savefig('Top 5 feature importance on XGBoost.png', bbox_inches='tight')\n",
    "plt.show()"
   ]
  },
  {
   "cell_type": "code",
   "execution_count": 46,
   "id": "468ff59d",
   "metadata": {},
   "outputs": [],
   "source": [
    "X_xg = data_dummies[['Dept','Size','Type_B','Store','Month','Week']]\n",
    "y_xg = data_dummies['Weekly_Sales']"
   ]
  },
  {
   "cell_type": "code",
   "execution_count": 47,
   "id": "f64ed0a6",
   "metadata": {},
   "outputs": [],
   "source": [
    "from sklearn.model_selection import train_test_split\n",
    "X_xg_train, X_xg_test, y_xg_train, y_xg_test = train_test_split(X_xg, y_xg, test_size = 0.25)"
   ]
  },
  {
   "cell_type": "code",
   "execution_count": 48,
   "id": "b9a41ff0",
   "metadata": {},
   "outputs": [],
   "source": [
    "from sklearn.preprocessing import MinMaxScaler\n",
    "scaler = MinMaxScaler()\n",
    "X_xg_train = scaler.fit_transform(X_xg_train)\n",
    "X_xg_test = scaler.transform(X_xg_test)\n",
    "np.set_printoptions(precision=5)"
   ]
  },
  {
   "cell_type": "code",
   "execution_count": 49,
   "id": "7f727382",
   "metadata": {},
   "outputs": [],
   "source": [
    "from xgboost import XGBRegressor\n",
    "xg_fi = XGBRegressor()\n",
    "xg_fi.fit(X_xg_train, y_xg_train)\n",
    "y_pred_xg_fi = xg_fi.predict(X_xg_test)"
   ]
  },
  {
   "cell_type": "code",
   "execution_count": 50,
   "id": "acb435c6",
   "metadata": {
    "scrolled": true
   },
   "outputs": [
    {
     "name": "stdout",
     "output_type": "stream",
     "text": [
      "Mean absolute error: 2939.37\n",
      "Mean squared error: 28228980.87\n",
      "Root Mean squared error: 5313.10\n",
      "Variance score: 0.95\n"
     ]
    }
   ],
   "source": [
    "from sklearn.metrics import mean_squared_error, r2_score, mean_absolute_error\n",
    "import math\n",
    "\n",
    "print(f\"Mean absolute error:{mean_absolute_error(y_xg_test, y_pred_xg_fi): .2f}\")\n",
    "print(f\"Mean squared error:{mean_squared_error(y_xg_test, y_pred_xg_fi): .2f}\")\n",
    "print(f\"Root Mean squared error: {math.sqrt(mean_squared_error(y_xg_test, y_pred_xg_fi)) :.2f}\")\n",
    "print(f'Variance score: {r2_score(y_xg_test, y_pred_xg_fi):.2f}')"
   ]
  },
  {
   "cell_type": "markdown",
   "id": "3ff77e1f",
   "metadata": {},
   "source": [
    "## Hyper Paramter Tuning (HPO)"
   ]
  },
  {
   "cell_type": "markdown",
   "id": "8ae1f1b8",
   "metadata": {},
   "source": [
    "#### HPO + Decision Tree (after feature importance)"
   ]
  },
  {
   "cell_type": "code",
   "execution_count": 51,
   "id": "61a80539",
   "metadata": {},
   "outputs": [],
   "source": [
    "dt_params = {\"min_samples_split\": [5, 10, 15, 20],\n",
    "              \"max_depth\": [20, 40, 60, 80, 100],\n",
    "              \"min_samples_leaf\": [5, 10, 15, 20],\n",
    "              \"max_leaf_nodes\": [20, 40, 60, 80, 100],\n",
    "              }"
   ]
  },
  {
   "cell_type": "code",
   "execution_count": 52,
   "id": "9132c143",
   "metadata": {},
   "outputs": [],
   "source": [
    "## Hyperparameter optimization using RandomizedSearchCV\n",
    "from sklearn.model_selection import RandomizedSearchCV"
   ]
  },
  {
   "cell_type": "code",
   "execution_count": 53,
   "id": "c7aec4c5",
   "metadata": {},
   "outputs": [],
   "source": [
    "def timer(start_time=None):\n",
    "    if not start_time:\n",
    "        start_time = datetime.now()\n",
    "        return start_time\n",
    "    elif start_time:\n",
    "        thour, temp_sec = divmod((datetime.now() - start_time).total_seconds(), 3600)\n",
    "        tmin, tsec = divmod(temp_sec, 60)\n",
    "        print('\\n Time taken: %i hours %i minutes and %s seconds.' % (thour, tmin, round(tsec, 2)))"
   ]
  },
  {
   "cell_type": "code",
   "execution_count": 54,
   "id": "62bf6b29",
   "metadata": {},
   "outputs": [],
   "source": [
    "from sklearn.tree import DecisionTreeRegressor\n",
    "dt_new_fi = DecisionTreeRegressor()#random_state=42"
   ]
  },
  {
   "cell_type": "code",
   "execution_count": 55,
   "id": "a63ba863",
   "metadata": {},
   "outputs": [],
   "source": [
    "random_search_dt_fi = RandomizedSearchCV(dt_new_fi,param_distributions=dt_params,n_iter=5,scoring='roc_auc',n_jobs=-1,cv=5,verbose=3)"
   ]
  },
  {
   "cell_type": "code",
   "execution_count": 66,
   "id": "ab988e5c",
   "metadata": {},
   "outputs": [
    {
     "name": "stdout",
     "output_type": "stream",
     "text": [
      "Fitting 5 folds for each of 5 candidates, totalling 25 fits\n"
     ]
    },
    {
     "name": "stderr",
     "output_type": "stream",
     "text": [
      "/Users/spy1106/opt/anaconda3/lib/python3.9/site-packages/sklearn/model_selection/_validation.py:770: UserWarning: Scoring failed. The score on this train-test partition for these parameters will be set to nan. Details: \n",
      "Traceback (most recent call last):\n",
      "  File \"/Users/spy1106/opt/anaconda3/lib/python3.9/site-packages/sklearn/model_selection/_validation.py\", line 761, in _score\n",
      "    scores = scorer(estimator, X_test, y_test)\n",
      "  File \"/Users/spy1106/opt/anaconda3/lib/python3.9/site-packages/sklearn/metrics/_scorer.py\", line 216, in __call__\n",
      "    return self._score(\n",
      "  File \"/Users/spy1106/opt/anaconda3/lib/python3.9/site-packages/sklearn/metrics/_scorer.py\", line 349, in _score\n",
      "    raise ValueError(\"{0} format is not supported\".format(y_type))\n",
      "ValueError: continuous format is not supported\n",
      "\n",
      "  warnings.warn(\n",
      "/Users/spy1106/opt/anaconda3/lib/python3.9/site-packages/sklearn/model_selection/_validation.py:770: UserWarning: Scoring failed. The score on this train-test partition for these parameters will be set to nan. Details: \n",
      "Traceback (most recent call last):\n",
      "  File \"/Users/spy1106/opt/anaconda3/lib/python3.9/site-packages/sklearn/model_selection/_validation.py\", line 761, in _score\n",
      "    scores = scorer(estimator, X_test, y_test)\n",
      "  File \"/Users/spy1106/opt/anaconda3/lib/python3.9/site-packages/sklearn/metrics/_scorer.py\", line 216, in __call__\n",
      "    return self._score(\n",
      "  File \"/Users/spy1106/opt/anaconda3/lib/python3.9/site-packages/sklearn/metrics/_scorer.py\", line 349, in _score\n",
      "    raise ValueError(\"{0} format is not supported\".format(y_type))\n",
      "ValueError: continuous format is not supported\n",
      "\n",
      "  warnings.warn(\n",
      "/Users/spy1106/opt/anaconda3/lib/python3.9/site-packages/sklearn/model_selection/_validation.py:770: UserWarning: Scoring failed. The score on this train-test partition for these parameters will be set to nan. Details: \n",
      "Traceback (most recent call last):\n",
      "  File \"/Users/spy1106/opt/anaconda3/lib/python3.9/site-packages/sklearn/model_selection/_validation.py\", line 761, in _score\n",
      "    scores = scorer(estimator, X_test, y_test)\n",
      "  File \"/Users/spy1106/opt/anaconda3/lib/python3.9/site-packages/sklearn/metrics/_scorer.py\", line 216, in __call__\n",
      "    return self._score(\n",
      "  File \"/Users/spy1106/opt/anaconda3/lib/python3.9/site-packages/sklearn/metrics/_scorer.py\", line 349, in _score\n",
      "    raise ValueError(\"{0} format is not supported\".format(y_type))\n",
      "ValueError: continuous format is not supported\n",
      "\n",
      "  warnings.warn(\n",
      "/Users/spy1106/opt/anaconda3/lib/python3.9/site-packages/sklearn/model_selection/_validation.py:770: UserWarning: Scoring failed. The score on this train-test partition for these parameters will be set to nan. Details: \n",
      "Traceback (most recent call last):\n",
      "  File \"/Users/spy1106/opt/anaconda3/lib/python3.9/site-packages/sklearn/model_selection/_validation.py\", line 761, in _score\n",
      "    scores = scorer(estimator, X_test, y_test)\n",
      "  File \"/Users/spy1106/opt/anaconda3/lib/python3.9/site-packages/sklearn/metrics/_scorer.py\", line 216, in __call__\n",
      "    return self._score(\n",
      "  File \"/Users/spy1106/opt/anaconda3/lib/python3.9/site-packages/sklearn/metrics/_scorer.py\", line 349, in _score\n",
      "    raise ValueError(\"{0} format is not supported\".format(y_type))\n",
      "ValueError: continuous format is not supported\n",
      "\n",
      "  warnings.warn(\n",
      "/Users/spy1106/opt/anaconda3/lib/python3.9/site-packages/sklearn/model_selection/_validation.py:770: UserWarning: Scoring failed. The score on this train-test partition for these parameters will be set to nan. Details: \n",
      "Traceback (most recent call last):\n",
      "  File \"/Users/spy1106/opt/anaconda3/lib/python3.9/site-packages/sklearn/model_selection/_validation.py\", line 761, in _score\n",
      "    scores = scorer(estimator, X_test, y_test)\n",
      "  File \"/Users/spy1106/opt/anaconda3/lib/python3.9/site-packages/sklearn/metrics/_scorer.py\", line 216, in __call__\n",
      "    return self._score(\n",
      "  File \"/Users/spy1106/opt/anaconda3/lib/python3.9/site-packages/sklearn/metrics/_scorer.py\", line 349, in _score\n",
      "    raise ValueError(\"{0} format is not supported\".format(y_type))\n",
      "ValueError: continuous format is not supported\n",
      "\n",
      "  warnings.warn(\n",
      "/Users/spy1106/opt/anaconda3/lib/python3.9/site-packages/sklearn/model_selection/_validation.py:770: UserWarning: Scoring failed. The score on this train-test partition for these parameters will be set to nan. Details: \n",
      "Traceback (most recent call last):\n",
      "  File \"/Users/spy1106/opt/anaconda3/lib/python3.9/site-packages/sklearn/model_selection/_validation.py\", line 761, in _score\n",
      "    scores = scorer(estimator, X_test, y_test)\n",
      "  File \"/Users/spy1106/opt/anaconda3/lib/python3.9/site-packages/sklearn/metrics/_scorer.py\", line 216, in __call__\n",
      "    return self._score(\n",
      "  File \"/Users/spy1106/opt/anaconda3/lib/python3.9/site-packages/sklearn/metrics/_scorer.py\", line 349, in _score\n",
      "    raise ValueError(\"{0} format is not supported\".format(y_type))\n",
      "ValueError: continuous format is not supported\n",
      "\n",
      "  warnings.warn(\n",
      "/Users/spy1106/opt/anaconda3/lib/python3.9/site-packages/sklearn/model_selection/_validation.py:770: UserWarning: Scoring failed. The score on this train-test partition for these parameters will be set to nan. Details: \n",
      "Traceback (most recent call last):\n",
      "  File \"/Users/spy1106/opt/anaconda3/lib/python3.9/site-packages/sklearn/model_selection/_validation.py\", line 761, in _score\n",
      "    scores = scorer(estimator, X_test, y_test)\n",
      "  File \"/Users/spy1106/opt/anaconda3/lib/python3.9/site-packages/sklearn/metrics/_scorer.py\", line 216, in __call__\n",
      "    return self._score(\n",
      "  File \"/Users/spy1106/opt/anaconda3/lib/python3.9/site-packages/sklearn/metrics/_scorer.py\", line 349, in _score\n",
      "    raise ValueError(\"{0} format is not supported\".format(y_type))\n",
      "ValueError: continuous format is not supported\n",
      "\n",
      "  warnings.warn(\n",
      "/Users/spy1106/opt/anaconda3/lib/python3.9/site-packages/sklearn/model_selection/_validation.py:770: UserWarning: Scoring failed. The score on this train-test partition for these parameters will be set to nan. Details: \n",
      "Traceback (most recent call last):\n",
      "  File \"/Users/spy1106/opt/anaconda3/lib/python3.9/site-packages/sklearn/model_selection/_validation.py\", line 761, in _score\n",
      "    scores = scorer(estimator, X_test, y_test)\n",
      "  File \"/Users/spy1106/opt/anaconda3/lib/python3.9/site-packages/sklearn/metrics/_scorer.py\", line 216, in __call__\n",
      "    return self._score(\n",
      "  File \"/Users/spy1106/opt/anaconda3/lib/python3.9/site-packages/sklearn/metrics/_scorer.py\", line 349, in _score\n",
      "    raise ValueError(\"{0} format is not supported\".format(y_type))\n",
      "ValueError: continuous format is not supported\n",
      "\n",
      "  warnings.warn(\n",
      "/Users/spy1106/opt/anaconda3/lib/python3.9/site-packages/sklearn/model_selection/_validation.py:770: UserWarning: Scoring failed. The score on this train-test partition for these parameters will be set to nan. Details: \n",
      "Traceback (most recent call last):\n",
      "  File \"/Users/spy1106/opt/anaconda3/lib/python3.9/site-packages/sklearn/model_selection/_validation.py\", line 761, in _score\n",
      "    scores = scorer(estimator, X_test, y_test)\n",
      "  File \"/Users/spy1106/opt/anaconda3/lib/python3.9/site-packages/sklearn/metrics/_scorer.py\", line 216, in __call__\n",
      "    return self._score(\n",
      "  File \"/Users/spy1106/opt/anaconda3/lib/python3.9/site-packages/sklearn/metrics/_scorer.py\", line 349, in _score\n",
      "    raise ValueError(\"{0} format is not supported\".format(y_type))\n",
      "ValueError: continuous format is not supported\n",
      "\n",
      "  warnings.warn(\n",
      "/Users/spy1106/opt/anaconda3/lib/python3.9/site-packages/sklearn/model_selection/_validation.py:770: UserWarning: Scoring failed. The score on this train-test partition for these parameters will be set to nan. Details: \n",
      "Traceback (most recent call last):\n",
      "  File \"/Users/spy1106/opt/anaconda3/lib/python3.9/site-packages/sklearn/model_selection/_validation.py\", line 761, in _score\n",
      "    scores = scorer(estimator, X_test, y_test)\n",
      "  File \"/Users/spy1106/opt/anaconda3/lib/python3.9/site-packages/sklearn/metrics/_scorer.py\", line 216, in __call__\n",
      "    return self._score(\n",
      "  File \"/Users/spy1106/opt/anaconda3/lib/python3.9/site-packages/sklearn/metrics/_scorer.py\", line 349, in _score\n",
      "    raise ValueError(\"{0} format is not supported\".format(y_type))\n",
      "ValueError: continuous format is not supported\n",
      "\n",
      "  warnings.warn(\n",
      "/Users/spy1106/opt/anaconda3/lib/python3.9/site-packages/sklearn/model_selection/_validation.py:770: UserWarning: Scoring failed. The score on this train-test partition for these parameters will be set to nan. Details: \n",
      "Traceback (most recent call last):\n",
      "  File \"/Users/spy1106/opt/anaconda3/lib/python3.9/site-packages/sklearn/model_selection/_validation.py\", line 761, in _score\n",
      "    scores = scorer(estimator, X_test, y_test)\n",
      "  File \"/Users/spy1106/opt/anaconda3/lib/python3.9/site-packages/sklearn/metrics/_scorer.py\", line 216, in __call__\n",
      "    return self._score(\n",
      "  File \"/Users/spy1106/opt/anaconda3/lib/python3.9/site-packages/sklearn/metrics/_scorer.py\", line 349, in _score\n",
      "    raise ValueError(\"{0} format is not supported\".format(y_type))\n",
      "ValueError: continuous format is not supported\n",
      "\n",
      "  warnings.warn(\n",
      "/Users/spy1106/opt/anaconda3/lib/python3.9/site-packages/sklearn/model_selection/_validation.py:770: UserWarning: Scoring failed. The score on this train-test partition for these parameters will be set to nan. Details: \n",
      "Traceback (most recent call last):\n",
      "  File \"/Users/spy1106/opt/anaconda3/lib/python3.9/site-packages/sklearn/model_selection/_validation.py\", line 761, in _score\n",
      "    scores = scorer(estimator, X_test, y_test)\n",
      "  File \"/Users/spy1106/opt/anaconda3/lib/python3.9/site-packages/sklearn/metrics/_scorer.py\", line 216, in __call__\n",
      "    return self._score(\n",
      "  File \"/Users/spy1106/opt/anaconda3/lib/python3.9/site-packages/sklearn/metrics/_scorer.py\", line 349, in _score\n",
      "    raise ValueError(\"{0} format is not supported\".format(y_type))\n",
      "ValueError: continuous format is not supported\n",
      "\n",
      "  warnings.warn(\n",
      "/Users/spy1106/opt/anaconda3/lib/python3.9/site-packages/sklearn/model_selection/_validation.py:770: UserWarning: Scoring failed. The score on this train-test partition for these parameters will be set to nan. Details: \n",
      "Traceback (most recent call last):\n",
      "  File \"/Users/spy1106/opt/anaconda3/lib/python3.9/site-packages/sklearn/model_selection/_validation.py\", line 761, in _score\n",
      "    scores = scorer(estimator, X_test, y_test)\n",
      "  File \"/Users/spy1106/opt/anaconda3/lib/python3.9/site-packages/sklearn/metrics/_scorer.py\", line 216, in __call__\n",
      "    return self._score(\n",
      "  File \"/Users/spy1106/opt/anaconda3/lib/python3.9/site-packages/sklearn/metrics/_scorer.py\", line 349, in _score\n",
      "    raise ValueError(\"{0} format is not supported\".format(y_type))\n",
      "ValueError: continuous format is not supported\n",
      "\n",
      "  warnings.warn(\n",
      "/Users/spy1106/opt/anaconda3/lib/python3.9/site-packages/sklearn/model_selection/_validation.py:770: UserWarning: Scoring failed. The score on this train-test partition for these parameters will be set to nan. Details: \n",
      "Traceback (most recent call last):\n",
      "  File \"/Users/spy1106/opt/anaconda3/lib/python3.9/site-packages/sklearn/model_selection/_validation.py\", line 761, in _score\n",
      "    scores = scorer(estimator, X_test, y_test)\n",
      "  File \"/Users/spy1106/opt/anaconda3/lib/python3.9/site-packages/sklearn/metrics/_scorer.py\", line 216, in __call__\n",
      "    return self._score(\n",
      "  File \"/Users/spy1106/opt/anaconda3/lib/python3.9/site-packages/sklearn/metrics/_scorer.py\", line 349, in _score\n",
      "    raise ValueError(\"{0} format is not supported\".format(y_type))\n",
      "ValueError: continuous format is not supported\n",
      "\n",
      "  warnings.warn(\n"
     ]
    },
    {
     "name": "stderr",
     "output_type": "stream",
     "text": [
      "/Users/spy1106/opt/anaconda3/lib/python3.9/site-packages/sklearn/model_selection/_validation.py:770: UserWarning: Scoring failed. The score on this train-test partition for these parameters will be set to nan. Details: \n",
      "Traceback (most recent call last):\n",
      "  File \"/Users/spy1106/opt/anaconda3/lib/python3.9/site-packages/sklearn/model_selection/_validation.py\", line 761, in _score\n",
      "    scores = scorer(estimator, X_test, y_test)\n",
      "  File \"/Users/spy1106/opt/anaconda3/lib/python3.9/site-packages/sklearn/metrics/_scorer.py\", line 216, in __call__\n",
      "    return self._score(\n",
      "  File \"/Users/spy1106/opt/anaconda3/lib/python3.9/site-packages/sklearn/metrics/_scorer.py\", line 349, in _score\n",
      "    raise ValueError(\"{0} format is not supported\".format(y_type))\n",
      "ValueError: continuous format is not supported\n",
      "\n",
      "  warnings.warn(\n",
      "/Users/spy1106/opt/anaconda3/lib/python3.9/site-packages/sklearn/model_selection/_validation.py:770: UserWarning: Scoring failed. The score on this train-test partition for these parameters will be set to nan. Details: \n",
      "Traceback (most recent call last):\n",
      "  File \"/Users/spy1106/opt/anaconda3/lib/python3.9/site-packages/sklearn/model_selection/_validation.py\", line 761, in _score\n",
      "    scores = scorer(estimator, X_test, y_test)\n",
      "  File \"/Users/spy1106/opt/anaconda3/lib/python3.9/site-packages/sklearn/metrics/_scorer.py\", line 216, in __call__\n",
      "    return self._score(\n",
      "  File \"/Users/spy1106/opt/anaconda3/lib/python3.9/site-packages/sklearn/metrics/_scorer.py\", line 349, in _score\n",
      "    raise ValueError(\"{0} format is not supported\".format(y_type))\n",
      "ValueError: continuous format is not supported\n",
      "\n",
      "  warnings.warn(\n",
      "/Users/spy1106/opt/anaconda3/lib/python3.9/site-packages/sklearn/model_selection/_validation.py:770: UserWarning: Scoring failed. The score on this train-test partition for these parameters will be set to nan. Details: \n",
      "Traceback (most recent call last):\n",
      "  File \"/Users/spy1106/opt/anaconda3/lib/python3.9/site-packages/sklearn/model_selection/_validation.py\", line 761, in _score\n",
      "    scores = scorer(estimator, X_test, y_test)\n",
      "  File \"/Users/spy1106/opt/anaconda3/lib/python3.9/site-packages/sklearn/metrics/_scorer.py\", line 216, in __call__\n",
      "    return self._score(\n",
      "  File \"/Users/spy1106/opt/anaconda3/lib/python3.9/site-packages/sklearn/metrics/_scorer.py\", line 349, in _score\n",
      "    raise ValueError(\"{0} format is not supported\".format(y_type))\n",
      "ValueError: continuous format is not supported\n",
      "\n",
      "  warnings.warn(\n",
      "/Users/spy1106/opt/anaconda3/lib/python3.9/site-packages/sklearn/model_selection/_validation.py:770: UserWarning: Scoring failed. The score on this train-test partition for these parameters will be set to nan. Details: \n",
      "Traceback (most recent call last):\n",
      "  File \"/Users/spy1106/opt/anaconda3/lib/python3.9/site-packages/sklearn/model_selection/_validation.py\", line 761, in _score\n",
      "    scores = scorer(estimator, X_test, y_test)\n",
      "  File \"/Users/spy1106/opt/anaconda3/lib/python3.9/site-packages/sklearn/metrics/_scorer.py\", line 216, in __call__\n",
      "    return self._score(\n",
      "  File \"/Users/spy1106/opt/anaconda3/lib/python3.9/site-packages/sklearn/metrics/_scorer.py\", line 349, in _score\n",
      "    raise ValueError(\"{0} format is not supported\".format(y_type))\n",
      "ValueError: continuous format is not supported\n",
      "\n",
      "  warnings.warn(\n",
      "/Users/spy1106/opt/anaconda3/lib/python3.9/site-packages/sklearn/model_selection/_validation.py:770: UserWarning: Scoring failed. The score on this train-test partition for these parameters will be set to nan. Details: \n",
      "Traceback (most recent call last):\n",
      "  File \"/Users/spy1106/opt/anaconda3/lib/python3.9/site-packages/sklearn/model_selection/_validation.py\", line 761, in _score\n",
      "    scores = scorer(estimator, X_test, y_test)\n",
      "  File \"/Users/spy1106/opt/anaconda3/lib/python3.9/site-packages/sklearn/metrics/_scorer.py\", line 216, in __call__\n",
      "    return self._score(\n",
      "  File \"/Users/spy1106/opt/anaconda3/lib/python3.9/site-packages/sklearn/metrics/_scorer.py\", line 349, in _score\n",
      "    raise ValueError(\"{0} format is not supported\".format(y_type))\n",
      "ValueError: continuous format is not supported\n",
      "\n",
      "  warnings.warn(\n",
      "/Users/spy1106/opt/anaconda3/lib/python3.9/site-packages/sklearn/model_selection/_validation.py:770: UserWarning: Scoring failed. The score on this train-test partition for these parameters will be set to nan. Details: \n",
      "Traceback (most recent call last):\n",
      "  File \"/Users/spy1106/opt/anaconda3/lib/python3.9/site-packages/sklearn/model_selection/_validation.py\", line 761, in _score\n",
      "    scores = scorer(estimator, X_test, y_test)\n",
      "  File \"/Users/spy1106/opt/anaconda3/lib/python3.9/site-packages/sklearn/metrics/_scorer.py\", line 216, in __call__\n",
      "    return self._score(\n",
      "  File \"/Users/spy1106/opt/anaconda3/lib/python3.9/site-packages/sklearn/metrics/_scorer.py\", line 349, in _score\n",
      "    raise ValueError(\"{0} format is not supported\".format(y_type))\n",
      "ValueError: continuous format is not supported\n",
      "\n",
      "  warnings.warn(\n",
      "/Users/spy1106/opt/anaconda3/lib/python3.9/site-packages/sklearn/model_selection/_validation.py:770: UserWarning: Scoring failed. The score on this train-test partition for these parameters will be set to nan. Details: \n",
      "Traceback (most recent call last):\n",
      "  File \"/Users/spy1106/opt/anaconda3/lib/python3.9/site-packages/sklearn/model_selection/_validation.py\", line 761, in _score\n",
      "    scores = scorer(estimator, X_test, y_test)\n",
      "  File \"/Users/spy1106/opt/anaconda3/lib/python3.9/site-packages/sklearn/metrics/_scorer.py\", line 216, in __call__\n",
      "    return self._score(\n",
      "  File \"/Users/spy1106/opt/anaconda3/lib/python3.9/site-packages/sklearn/metrics/_scorer.py\", line 349, in _score\n",
      "    raise ValueError(\"{0} format is not supported\".format(y_type))\n",
      "ValueError: continuous format is not supported\n",
      "\n",
      "  warnings.warn(\n",
      "/Users/spy1106/opt/anaconda3/lib/python3.9/site-packages/sklearn/model_selection/_validation.py:770: UserWarning: Scoring failed. The score on this train-test partition for these parameters will be set to nan. Details: \n",
      "Traceback (most recent call last):\n",
      "  File \"/Users/spy1106/opt/anaconda3/lib/python3.9/site-packages/sklearn/model_selection/_validation.py\", line 761, in _score\n",
      "    scores = scorer(estimator, X_test, y_test)\n",
      "  File \"/Users/spy1106/opt/anaconda3/lib/python3.9/site-packages/sklearn/metrics/_scorer.py\", line 216, in __call__\n",
      "    return self._score(\n",
      "  File \"/Users/spy1106/opt/anaconda3/lib/python3.9/site-packages/sklearn/metrics/_scorer.py\", line 349, in _score\n",
      "    raise ValueError(\"{0} format is not supported\".format(y_type))\n",
      "ValueError: continuous format is not supported\n",
      "\n",
      "  warnings.warn(\n",
      "/Users/spy1106/opt/anaconda3/lib/python3.9/site-packages/sklearn/model_selection/_validation.py:770: UserWarning: Scoring failed. The score on this train-test partition for these parameters will be set to nan. Details: \n",
      "Traceback (most recent call last):\n",
      "  File \"/Users/spy1106/opt/anaconda3/lib/python3.9/site-packages/sklearn/model_selection/_validation.py\", line 761, in _score\n",
      "    scores = scorer(estimator, X_test, y_test)\n",
      "  File \"/Users/spy1106/opt/anaconda3/lib/python3.9/site-packages/sklearn/metrics/_scorer.py\", line 216, in __call__\n",
      "    return self._score(\n",
      "  File \"/Users/spy1106/opt/anaconda3/lib/python3.9/site-packages/sklearn/metrics/_scorer.py\", line 349, in _score\n",
      "    raise ValueError(\"{0} format is not supported\".format(y_type))\n",
      "ValueError: continuous format is not supported\n",
      "\n",
      "  warnings.warn(\n",
      "/Users/spy1106/opt/anaconda3/lib/python3.9/site-packages/sklearn/model_selection/_validation.py:770: UserWarning: Scoring failed. The score on this train-test partition for these parameters will be set to nan. Details: \n",
      "Traceback (most recent call last):\n",
      "  File \"/Users/spy1106/opt/anaconda3/lib/python3.9/site-packages/sklearn/model_selection/_validation.py\", line 761, in _score\n",
      "    scores = scorer(estimator, X_test, y_test)\n",
      "  File \"/Users/spy1106/opt/anaconda3/lib/python3.9/site-packages/sklearn/metrics/_scorer.py\", line 216, in __call__\n",
      "    return self._score(\n",
      "  File \"/Users/spy1106/opt/anaconda3/lib/python3.9/site-packages/sklearn/metrics/_scorer.py\", line 349, in _score\n",
      "    raise ValueError(\"{0} format is not supported\".format(y_type))\n",
      "ValueError: continuous format is not supported\n",
      "\n",
      "  warnings.warn(\n",
      "/Users/spy1106/opt/anaconda3/lib/python3.9/site-packages/sklearn/model_selection/_validation.py:770: UserWarning: Scoring failed. The score on this train-test partition for these parameters will be set to nan. Details: \n",
      "Traceback (most recent call last):\n",
      "  File \"/Users/spy1106/opt/anaconda3/lib/python3.9/site-packages/sklearn/model_selection/_validation.py\", line 761, in _score\n",
      "    scores = scorer(estimator, X_test, y_test)\n",
      "  File \"/Users/spy1106/opt/anaconda3/lib/python3.9/site-packages/sklearn/metrics/_scorer.py\", line 216, in __call__\n",
      "    return self._score(\n",
      "  File \"/Users/spy1106/opt/anaconda3/lib/python3.9/site-packages/sklearn/metrics/_scorer.py\", line 349, in _score\n",
      "    raise ValueError(\"{0} format is not supported\".format(y_type))\n",
      "ValueError: continuous format is not supported\n",
      "\n",
      "  warnings.warn(\n",
      "/Users/spy1106/opt/anaconda3/lib/python3.9/site-packages/sklearn/model_selection/_search.py:969: UserWarning: One or more of the test scores are non-finite: [nan nan nan nan nan]\n",
      "  warnings.warn(\n"
     ]
    },
    {
     "name": "stdout",
     "output_type": "stream",
     "text": [
      "\n",
      " Time taken: 0 hours 0 minutes and 3.04 seconds.\n"
     ]
    }
   ],
   "source": [
    "from datetime import datetime\n",
    "# Here we go\n",
    "start_time = timer(None) # timing starts from this point for \"start_time\" variable\n",
    "random_search_dt_fi.fit(X_dt,y_dt)\n",
    "timer(start_time) # timing ends here for \"start_time\" variable"
   ]
  },
  {
   "cell_type": "code",
   "execution_count": 67,
   "id": "f01df812",
   "metadata": {},
   "outputs": [
    {
     "data": {
      "text/html": [
       "<div>\n",
       "<style scoped>\n",
       "    .dataframe tbody tr th:only-of-type {\n",
       "        vertical-align: middle;\n",
       "    }\n",
       "\n",
       "    .dataframe tbody tr th {\n",
       "        vertical-align: top;\n",
       "    }\n",
       "\n",
       "    .dataframe thead th {\n",
       "        text-align: right;\n",
       "    }\n",
       "</style>\n",
       "<table border=\"1\" class=\"dataframe\">\n",
       "  <thead>\n",
       "    <tr style=\"text-align: right;\">\n",
       "      <th></th>\n",
       "      <th>Dept</th>\n",
       "      <th>Size</th>\n",
       "      <th>Store</th>\n",
       "      <th>Week</th>\n",
       "      <th>CPI</th>\n",
       "    </tr>\n",
       "  </thead>\n",
       "  <tbody>\n",
       "    <tr>\n",
       "      <th>0</th>\n",
       "      <td>1</td>\n",
       "      <td>151315</td>\n",
       "      <td>1</td>\n",
       "      <td>5</td>\n",
       "      <td>211.096358</td>\n",
       "    </tr>\n",
       "    <tr>\n",
       "      <th>1</th>\n",
       "      <td>2</td>\n",
       "      <td>151315</td>\n",
       "      <td>1</td>\n",
       "      <td>5</td>\n",
       "      <td>211.096358</td>\n",
       "    </tr>\n",
       "    <tr>\n",
       "      <th>2</th>\n",
       "      <td>3</td>\n",
       "      <td>151315</td>\n",
       "      <td>1</td>\n",
       "      <td>5</td>\n",
       "      <td>211.096358</td>\n",
       "    </tr>\n",
       "    <tr>\n",
       "      <th>3</th>\n",
       "      <td>4</td>\n",
       "      <td>151315</td>\n",
       "      <td>1</td>\n",
       "      <td>5</td>\n",
       "      <td>211.096358</td>\n",
       "    </tr>\n",
       "    <tr>\n",
       "      <th>4</th>\n",
       "      <td>5</td>\n",
       "      <td>151315</td>\n",
       "      <td>1</td>\n",
       "      <td>5</td>\n",
       "      <td>211.096358</td>\n",
       "    </tr>\n",
       "  </tbody>\n",
       "</table>\n",
       "</div>"
      ],
      "text/plain": [
       "   Dept    Size  Store  Week         CPI\n",
       "0     1  151315      1     5  211.096358\n",
       "1     2  151315      1     5  211.096358\n",
       "2     3  151315      1     5  211.096358\n",
       "3     4  151315      1     5  211.096358\n",
       "4     5  151315      1     5  211.096358"
      ]
     },
     "execution_count": 67,
     "metadata": {},
     "output_type": "execute_result"
    }
   ],
   "source": [
    "X_dt.head()"
   ]
  },
  {
   "cell_type": "code",
   "execution_count": 68,
   "id": "f38d5673",
   "metadata": {},
   "outputs": [
    {
     "data": {
      "text/plain": [
       "DecisionTreeRegressor(max_depth=100, max_leaf_nodes=100, min_samples_leaf=10,\n",
       "                      min_samples_split=15)"
      ]
     },
     "execution_count": 68,
     "metadata": {},
     "output_type": "execute_result"
    }
   ],
   "source": [
    "random_search_dt_fi.best_estimator_"
   ]
  },
  {
   "cell_type": "code",
   "execution_count": 69,
   "id": "50842f3b",
   "metadata": {},
   "outputs": [],
   "source": [
    "from sklearn.tree import DecisionTreeRegressor\n",
    "dt_fi = DecisionTreeRegressor(max_depth=100, max_leaf_nodes=100, min_samples_leaf=10,\n",
    "                      min_samples_split=15)\n",
    "dt_fi.fit(X_dt_train, y_dt_train)\n",
    "y_pred_dt_fi = dt_fi.predict(X_dt_test)"
   ]
  },
  {
   "cell_type": "code",
   "execution_count": 70,
   "id": "2b877c68",
   "metadata": {},
   "outputs": [
    {
     "name": "stdout",
     "output_type": "stream",
     "text": [
      "Mean absolute error: 6000.91\n",
      "Mean squared error: 96507748.21\n",
      "Root Mean squared error: 9823.84\n",
      "Variance score: 0.81\n"
     ]
    }
   ],
   "source": [
    "from sklearn.metrics import mean_squared_error, r2_score, mean_absolute_error\n",
    "import math\n",
    "\n",
    "print(f\"Mean absolute error:{mean_absolute_error(y_dt_test, y_pred_dt_fi): .2f}\")\n",
    "print(f\"Mean squared error:{mean_squared_error(y_dt_test, y_pred_dt_fi): .2f}\")\n",
    "print(f\"Root Mean squared error: {math.sqrt(mean_squared_error(y_dt_test, y_pred_dt_fi)) :.2f}\")\n",
    "print(f'Variance score: {r2_score(y_dt_test, y_pred_dt_fi):.2f}')"
   ]
  },
  {
   "cell_type": "markdown",
   "id": "70e57565",
   "metadata": {},
   "source": [
    "#### Hyper Paramter Tuning + XGBoost (after feature importance)"
   ]
  },
  {
   "cell_type": "code",
   "execution_count": 71,
   "id": "c203408a",
   "metadata": {},
   "outputs": [],
   "source": [
    "params={\n",
    " \"learning_rate\"    : [0.05, 0.10, 0.15, 0.20, 0.25, 0.30 ] ,\n",
    " \"max_depth\"        : [ 3, 4, 5, 6, 8, 10, 12, 15],\n",
    " \"min_child_weight\" : [ 1, 3, 5, 7 ],\n",
    " \"gamma\"            : [ 0.0, 0.1, 0.2 , 0.3, 0.4 ],\n",
    " \"colsample_bytree\" : [ 0.3, 0.4, 0.5 , 0.7 ]\n",
    "    \n",
    "}"
   ]
  },
  {
   "cell_type": "code",
   "execution_count": 72,
   "id": "895fefc6",
   "metadata": {},
   "outputs": [],
   "source": [
    "## Hyperparameter optimization using RandomizedSearchCV\n",
    "from sklearn.model_selection import RandomizedSearchCV"
   ]
  },
  {
   "cell_type": "code",
   "execution_count": 73,
   "id": "e84e0c00",
   "metadata": {},
   "outputs": [],
   "source": [
    "def timer(start_time=None):\n",
    "    if not start_time:\n",
    "        start_time = datetime.now()\n",
    "        return start_time\n",
    "    elif start_time:\n",
    "        thour, temp_sec = divmod((datetime.now() - start_time).total_seconds(), 3600)\n",
    "        tmin, tsec = divmod(temp_sec, 60)\n",
    "        print('\\n Time taken: %i hours %i minutes and %s seconds.' % (thour, tmin, round(tsec, 2)))"
   ]
  },
  {
   "cell_type": "code",
   "execution_count": 74,
   "id": "c5780ed7",
   "metadata": {},
   "outputs": [],
   "source": [
    "from xgboost import XGBRegressor\n",
    "xg_new_2 = XGBRegressor()"
   ]
  },
  {
   "cell_type": "code",
   "execution_count": 75,
   "id": "7cb9c049",
   "metadata": {},
   "outputs": [],
   "source": [
    "random_search = RandomizedSearchCV(xg_new_2,param_distributions=params,n_iter=1,scoring='roc_auc',n_jobs=-1,cv=5,verbose=3)"
   ]
  },
  {
   "cell_type": "code",
   "execution_count": 76,
   "id": "41bf5a3d",
   "metadata": {},
   "outputs": [
    {
     "name": "stdout",
     "output_type": "stream",
     "text": [
      "Fitting 5 folds for each of 1 candidates, totalling 5 fits\n"
     ]
    },
    {
     "name": "stderr",
     "output_type": "stream",
     "text": [
      "/Users/spy1106/opt/anaconda3/lib/python3.9/site-packages/sklearn/model_selection/_validation.py:770: UserWarning: Scoring failed. The score on this train-test partition for these parameters will be set to nan. Details: \n",
      "Traceback (most recent call last):\n",
      "  File \"/Users/spy1106/opt/anaconda3/lib/python3.9/site-packages/sklearn/model_selection/_validation.py\", line 761, in _score\n",
      "    scores = scorer(estimator, X_test, y_test)\n",
      "  File \"/Users/spy1106/opt/anaconda3/lib/python3.9/site-packages/sklearn/metrics/_scorer.py\", line 216, in __call__\n",
      "    return self._score(\n",
      "  File \"/Users/spy1106/opt/anaconda3/lib/python3.9/site-packages/sklearn/metrics/_scorer.py\", line 349, in _score\n",
      "    raise ValueError(\"{0} format is not supported\".format(y_type))\n",
      "ValueError: continuous format is not supported\n",
      "\n",
      "  warnings.warn(\n"
     ]
    },
    {
     "name": "stdout",
     "output_type": "stream",
     "text": [
      "[CV 3/5] END max_depth=20, max_leaf_nodes=60, min_samples_leaf=10, min_samples_split=20;, score=nan total time=   0.7s\n",
      "[CV 5/5] END max_depth=20, max_leaf_nodes=60, min_samples_leaf=10, min_samples_split=20;, score=nan total time=   0.6s\n",
      "[CV 3/5] END max_depth=80, max_leaf_nodes=100, min_samples_leaf=15, min_samples_split=20;, score=nan total time=   0.5s\n",
      "[CV 1/5] END max_depth=60, max_leaf_nodes=40, min_samples_leaf=10, min_samples_split=20;, score=nan total time=   0.5s\n",
      "[CV 5/5] END max_depth=60, max_leaf_nodes=60, min_samples_leaf=20, min_samples_split=5;, score=nan total time=   0.5s\n",
      "[CV 3/5] END max_depth=60, max_leaf_nodes=20, min_samples_leaf=5, min_samples_split=20;, score=nan total time=   0.5s\n",
      "[CV 1/5] END max_depth=100, max_leaf_nodes=100, min_samples_leaf=10, min_samples_split=15;, score=nan total time=   0.6s\n",
      "[CV 1/5] END max_depth=40, max_leaf_nodes=20, min_samples_leaf=15, min_samples_split=15;, score=nan total time=   0.4s\n",
      "[CV 4/5] END max_depth=100, max_leaf_nodes=20, min_samples_leaf=15, min_samples_split=20;, score=nan total time=   0.3s\n",
      "[CV 2/5] END colsample_bytree=0.5, gamma=0.3, learning_rate=0.2, max_depth=15, min_child_weight=1;, score=nan total time=  49.5s\n"
     ]
    },
    {
     "name": "stderr",
     "output_type": "stream",
     "text": [
      "/Users/spy1106/opt/anaconda3/lib/python3.9/site-packages/sklearn/model_selection/_validation.py:770: UserWarning: Scoring failed. The score on this train-test partition for these parameters will be set to nan. Details: \n",
      "Traceback (most recent call last):\n",
      "  File \"/Users/spy1106/opt/anaconda3/lib/python3.9/site-packages/sklearn/model_selection/_validation.py\", line 761, in _score\n",
      "    scores = scorer(estimator, X_test, y_test)\n",
      "  File \"/Users/spy1106/opt/anaconda3/lib/python3.9/site-packages/sklearn/metrics/_scorer.py\", line 216, in __call__\n",
      "    return self._score(\n",
      "  File \"/Users/spy1106/opt/anaconda3/lib/python3.9/site-packages/sklearn/metrics/_scorer.py\", line 349, in _score\n",
      "    raise ValueError(\"{0} format is not supported\".format(y_type))\n",
      "ValueError: continuous format is not supported\n",
      "\n",
      "  warnings.warn(\n",
      "/Users/spy1106/opt/anaconda3/lib/python3.9/site-packages/sklearn/model_selection/_validation.py:770: UserWarning: Scoring failed. The score on this train-test partition for these parameters will be set to nan. Details: \n",
      "Traceback (most recent call last):\n",
      "  File \"/Users/spy1106/opt/anaconda3/lib/python3.9/site-packages/sklearn/model_selection/_validation.py\", line 761, in _score\n",
      "    scores = scorer(estimator, X_test, y_test)\n",
      "  File \"/Users/spy1106/opt/anaconda3/lib/python3.9/site-packages/sklearn/metrics/_scorer.py\", line 216, in __call__\n",
      "    return self._score(\n",
      "  File \"/Users/spy1106/opt/anaconda3/lib/python3.9/site-packages/sklearn/metrics/_scorer.py\", line 349, in _score\n",
      "    raise ValueError(\"{0} format is not supported\".format(y_type))\n",
      "ValueError: continuous format is not supported\n",
      "\n",
      "  warnings.warn(\n",
      "/Users/spy1106/opt/anaconda3/lib/python3.9/site-packages/sklearn/model_selection/_validation.py:770: UserWarning: Scoring failed. The score on this train-test partition for these parameters will be set to nan. Details: \n",
      "Traceback (most recent call last):\n",
      "  File \"/Users/spy1106/opt/anaconda3/lib/python3.9/site-packages/sklearn/model_selection/_validation.py\", line 761, in _score\n",
      "    scores = scorer(estimator, X_test, y_test)\n",
      "  File \"/Users/spy1106/opt/anaconda3/lib/python3.9/site-packages/sklearn/metrics/_scorer.py\", line 216, in __call__\n",
      "    return self._score(\n",
      "  File \"/Users/spy1106/opt/anaconda3/lib/python3.9/site-packages/sklearn/metrics/_scorer.py\", line 349, in _score\n",
      "    raise ValueError(\"{0} format is not supported\".format(y_type))\n",
      "ValueError: continuous format is not supported\n",
      "\n",
      "  warnings.warn(\n",
      "/Users/spy1106/opt/anaconda3/lib/python3.9/site-packages/sklearn/model_selection/_validation.py:770: UserWarning: Scoring failed. The score on this train-test partition for these parameters will be set to nan. Details: \n",
      "Traceback (most recent call last):\n",
      "  File \"/Users/spy1106/opt/anaconda3/lib/python3.9/site-packages/sklearn/model_selection/_validation.py\", line 761, in _score\n",
      "    scores = scorer(estimator, X_test, y_test)\n",
      "  File \"/Users/spy1106/opt/anaconda3/lib/python3.9/site-packages/sklearn/metrics/_scorer.py\", line 216, in __call__\n",
      "    return self._score(\n",
      "  File \"/Users/spy1106/opt/anaconda3/lib/python3.9/site-packages/sklearn/metrics/_scorer.py\", line 349, in _score\n",
      "    raise ValueError(\"{0} format is not supported\".format(y_type))\n",
      "ValueError: continuous format is not supported\n",
      "\n",
      "  warnings.warn(\n",
      "/Users/spy1106/opt/anaconda3/lib/python3.9/site-packages/sklearn/model_selection/_search.py:969: UserWarning: One or more of the test scores are non-finite: [nan]\n",
      "  warnings.warn(\n"
     ]
    },
    {
     "name": "stdout",
     "output_type": "stream",
     "text": [
      "[CV 5/5] END max_depth=40, max_leaf_nodes=60, min_samples_leaf=15, min_samples_split=20;, score=nan total time=   0.8s\n",
      "[CV 1/5] END max_depth=80, max_leaf_nodes=100, min_samples_leaf=15, min_samples_split=20;, score=nan total time=   0.7s\n",
      "[CV 4/5] END max_depth=20, max_leaf_nodes=100, min_samples_leaf=15, min_samples_split=5;, score=nan total time=   0.6s\n",
      "[CV 5/5] END max_depth=60, max_leaf_nodes=40, min_samples_leaf=10, min_samples_split=20;, score=nan total time=   0.5s\n",
      "[CV 3/5] END max_depth=100, max_leaf_nodes=100, min_samples_leaf=5, min_samples_split=20;, score=nan total time=   0.6s\n",
      "[CV 1/5] END max_depth=60, max_leaf_nodes=60, min_samples_leaf=15, min_samples_split=5;, score=nan total time=   0.5s\n",
      "[CV 2/5] END max_depth=40, max_leaf_nodes=20, min_samples_leaf=20, min_samples_split=10;, score=nan total time=   0.4s\n",
      "[CV 3/5] END max_depth=40, max_leaf_nodes=20, min_samples_leaf=15, min_samples_split=15;, score=nan total time=   0.4s\n",
      "[CV 5/5] END max_depth=100, max_leaf_nodes=20, min_samples_leaf=15, min_samples_split=20;, score=nan total time=   0.4s\n",
      "[CV 5/5] END colsample_bytree=0.5, gamma=0.3, learning_rate=0.2, max_depth=15, min_child_weight=1;, score=nan total time=  50.0s\n",
      "[CV 2/5] END max_depth=20, max_leaf_nodes=60, min_samples_leaf=10, min_samples_split=20;, score=nan total time=   0.8s\n",
      "[CV 2/5] END max_depth=100, max_leaf_nodes=80, min_samples_leaf=5, min_samples_split=5;, score=nan total time=   0.6s\n",
      "[CV 5/5] END max_depth=80, max_leaf_nodes=100, min_samples_leaf=15, min_samples_split=20;, score=nan total time=   0.6s\n",
      "[CV 2/5] END max_depth=60, max_leaf_nodes=60, min_samples_leaf=20, min_samples_split=5;, score=nan total time=   0.5s\n",
      "[CV 4/5] END max_depth=100, max_leaf_nodes=100, min_samples_leaf=5, min_samples_split=20;, score=nan total time=   0.6s\n",
      "[CV 3/5] END max_depth=60, max_leaf_nodes=60, min_samples_leaf=15, min_samples_split=5;, score=nan total time=   0.4s\n",
      "[CV 2/5] END max_depth=100, max_leaf_nodes=100, min_samples_leaf=10, min_samples_split=15;, score=nan total time=   0.6s\n",
      "[CV 4/5] END max_depth=40, max_leaf_nodes=20, min_samples_leaf=20, min_samples_split=10;, score=nan total time=   0.4s\n",
      "[CV 2/5] END max_depth=100, max_leaf_nodes=20, min_samples_leaf=15, min_samples_split=20;, score=nan total time=   0.4s\n",
      "[CV 1/5] END colsample_bytree=0.5, gamma=0.3, learning_rate=0.2, max_depth=15, min_child_weight=1;, score=nan total time=  50.1s\n",
      "[CV 1/5] END max_depth=40, max_leaf_nodes=60, min_samples_leaf=15, min_samples_split=20;, score=nan total time=   0.8s\n",
      "[CV 5/5] END max_depth=100, max_leaf_nodes=80, min_samples_leaf=5, min_samples_split=5;, score=nan total time=   0.7s\n",
      "[CV 2/5] END max_depth=20, max_leaf_nodes=100, min_samples_leaf=15, min_samples_split=5;, score=nan total time=   0.6s\n",
      "[CV 2/5] END max_depth=60, max_leaf_nodes=40, min_samples_leaf=10, min_samples_split=20;, score=nan total time=   0.4s\n",
      "[CV 4/5] END max_depth=60, max_leaf_nodes=60, min_samples_leaf=20, min_samples_split=5;, score=nan total time=   0.5s\n",
      "[CV 2/5] END max_depth=60, max_leaf_nodes=20, min_samples_leaf=5, min_samples_split=20;, score=nan total time=   0.3s\n",
      "[CV 5/5] END max_depth=60, max_leaf_nodes=60, min_samples_leaf=15, min_samples_split=5;, score=nan total time=   0.4s\n",
      "[CV 3/5] END max_depth=40, max_leaf_nodes=20, min_samples_leaf=20, min_samples_split=10;, score=nan total time=   0.4s\n",
      "[CV 2/5] END max_depth=40, max_leaf_nodes=20, min_samples_leaf=15, min_samples_split=15;, score=nan total time=   0.4s\n",
      "[CV 1/5] END max_depth=100, max_leaf_nodes=80, min_samples_leaf=5, min_samples_split=15;, score=nan total time=   0.5s\n",
      "[CV 4/5] END colsample_bytree=0.5, gamma=0.3, learning_rate=0.2, max_depth=15, min_child_weight=1;, score=nan total time=  50.1s\n",
      "\n",
      " Time taken: 0 hours 1 minutes and 6.31 seconds.\n"
     ]
    }
   ],
   "source": [
    "from datetime import datetime\n",
    "# Here we go\n",
    "start_time = timer(None) # timing starts from this point for \"start_time\" variable\n",
    "random_search.fit(X_xg,y_xg)\n",
    "timer(start_time) # timing ends here for \"start_time\" variable"
   ]
  },
  {
   "cell_type": "code",
   "execution_count": 77,
   "id": "1e1fccc9",
   "metadata": {},
   "outputs": [
    {
     "data": {
      "text/html": [
       "<div>\n",
       "<style scoped>\n",
       "    .dataframe tbody tr th:only-of-type {\n",
       "        vertical-align: middle;\n",
       "    }\n",
       "\n",
       "    .dataframe tbody tr th {\n",
       "        vertical-align: top;\n",
       "    }\n",
       "\n",
       "    .dataframe thead th {\n",
       "        text-align: right;\n",
       "    }\n",
       "</style>\n",
       "<table border=\"1\" class=\"dataframe\">\n",
       "  <thead>\n",
       "    <tr style=\"text-align: right;\">\n",
       "      <th></th>\n",
       "      <th>Store</th>\n",
       "      <th>Dept</th>\n",
       "      <th>IsHoliday</th>\n",
       "      <th>Temperature</th>\n",
       "      <th>Fuel_Price</th>\n",
       "      <th>CPI</th>\n",
       "      <th>Unemployment</th>\n",
       "      <th>Size</th>\n",
       "      <th>Year</th>\n",
       "      <th>Month</th>\n",
       "      <th>Week</th>\n",
       "      <th>Type_B</th>\n",
       "      <th>Type_C</th>\n",
       "    </tr>\n",
       "  </thead>\n",
       "  <tbody>\n",
       "    <tr>\n",
       "      <th>0</th>\n",
       "      <td>1</td>\n",
       "      <td>1</td>\n",
       "      <td>0</td>\n",
       "      <td>42.31</td>\n",
       "      <td>2.572</td>\n",
       "      <td>211.096358</td>\n",
       "      <td>8.106</td>\n",
       "      <td>151315</td>\n",
       "      <td>2010</td>\n",
       "      <td>2</td>\n",
       "      <td>5</td>\n",
       "      <td>0</td>\n",
       "      <td>0</td>\n",
       "    </tr>\n",
       "    <tr>\n",
       "      <th>1</th>\n",
       "      <td>1</td>\n",
       "      <td>2</td>\n",
       "      <td>0</td>\n",
       "      <td>42.31</td>\n",
       "      <td>2.572</td>\n",
       "      <td>211.096358</td>\n",
       "      <td>8.106</td>\n",
       "      <td>151315</td>\n",
       "      <td>2010</td>\n",
       "      <td>2</td>\n",
       "      <td>5</td>\n",
       "      <td>0</td>\n",
       "      <td>0</td>\n",
       "    </tr>\n",
       "    <tr>\n",
       "      <th>2</th>\n",
       "      <td>1</td>\n",
       "      <td>3</td>\n",
       "      <td>0</td>\n",
       "      <td>42.31</td>\n",
       "      <td>2.572</td>\n",
       "      <td>211.096358</td>\n",
       "      <td>8.106</td>\n",
       "      <td>151315</td>\n",
       "      <td>2010</td>\n",
       "      <td>2</td>\n",
       "      <td>5</td>\n",
       "      <td>0</td>\n",
       "      <td>0</td>\n",
       "    </tr>\n",
       "    <tr>\n",
       "      <th>3</th>\n",
       "      <td>1</td>\n",
       "      <td>4</td>\n",
       "      <td>0</td>\n",
       "      <td>42.31</td>\n",
       "      <td>2.572</td>\n",
       "      <td>211.096358</td>\n",
       "      <td>8.106</td>\n",
       "      <td>151315</td>\n",
       "      <td>2010</td>\n",
       "      <td>2</td>\n",
       "      <td>5</td>\n",
       "      <td>0</td>\n",
       "      <td>0</td>\n",
       "    </tr>\n",
       "    <tr>\n",
       "      <th>4</th>\n",
       "      <td>1</td>\n",
       "      <td>5</td>\n",
       "      <td>0</td>\n",
       "      <td>42.31</td>\n",
       "      <td>2.572</td>\n",
       "      <td>211.096358</td>\n",
       "      <td>8.106</td>\n",
       "      <td>151315</td>\n",
       "      <td>2010</td>\n",
       "      <td>2</td>\n",
       "      <td>5</td>\n",
       "      <td>0</td>\n",
       "      <td>0</td>\n",
       "    </tr>\n",
       "  </tbody>\n",
       "</table>\n",
       "</div>"
      ],
      "text/plain": [
       "   Store  Dept  IsHoliday  Temperature  Fuel_Price         CPI  Unemployment  \\\n",
       "0      1     1          0        42.31       2.572  211.096358         8.106   \n",
       "1      1     2          0        42.31       2.572  211.096358         8.106   \n",
       "2      1     3          0        42.31       2.572  211.096358         8.106   \n",
       "3      1     4          0        42.31       2.572  211.096358         8.106   \n",
       "4      1     5          0        42.31       2.572  211.096358         8.106   \n",
       "\n",
       "     Size  Year  Month  Week  Type_B  Type_C  \n",
       "0  151315  2010      2     5       0       0  \n",
       "1  151315  2010      2     5       0       0  \n",
       "2  151315  2010      2     5       0       0  \n",
       "3  151315  2010      2     5       0       0  \n",
       "4  151315  2010      2     5       0       0  "
      ]
     },
     "execution_count": 77,
     "metadata": {},
     "output_type": "execute_result"
    }
   ],
   "source": [
    "X.head()"
   ]
  },
  {
   "cell_type": "code",
   "execution_count": 78,
   "id": "a742b175",
   "metadata": {},
   "outputs": [
    {
     "data": {
      "text/plain": [
       "XGBRegressor(base_score=0.5, booster='gbtree', colsample_bylevel=1,\n",
       "             colsample_bynode=1, colsample_bytree=0.5, enable_categorical=False,\n",
       "             gamma=0.3, gpu_id=-1, importance_type=None,\n",
       "             interaction_constraints='', learning_rate=0.2, max_delta_step=0,\n",
       "             max_depth=15, min_child_weight=1, missing=nan,\n",
       "             monotone_constraints='()', n_estimators=100, n_jobs=8,\n",
       "             num_parallel_tree=1, predictor='auto', random_state=0, reg_alpha=0,\n",
       "             reg_lambda=1, scale_pos_weight=1, subsample=1, tree_method='exact',\n",
       "             validate_parameters=1, verbosity=None)"
      ]
     },
     "execution_count": 78,
     "metadata": {},
     "output_type": "execute_result"
    }
   ],
   "source": [
    "random_search.best_estimator_"
   ]
  },
  {
   "cell_type": "code",
   "execution_count": 79,
   "id": "be332cfc",
   "metadata": {},
   "outputs": [],
   "source": [
    "xg_new_4 = XGBRegressor(base_score=0.5, booster='gbtree', colsample_bylevel=1,\n",
    "             colsample_bynode=1, colsample_bytree=0.5, enable_categorical=False,\n",
    "             gamma=0.3, gpu_id=-1, importance_type=None,\n",
    "             interaction_constraints='', learning_rate=0.2, max_delta_step=0,\n",
    "             max_depth=15, min_child_weight=1,\n",
    "             monotone_constraints='()', n_estimators=100, n_jobs=8,\n",
    "             num_parallel_tree=1, predictor='auto', random_state=0, reg_alpha=0,\n",
    "             reg_lambda=1, scale_pos_weight=1, subsample=1, tree_method='exact',\n",
    "             validate_parameters=1, verbosity=None)\n",
    "xg_new_4.fit(X_xg_train, y_xg_train)\n",
    "y_pred_xg_4 = xg_new_4.predict(X_xg_test)"
   ]
  },
  {
   "cell_type": "code",
   "execution_count": 80,
   "id": "6e85e6da",
   "metadata": {},
   "outputs": [
    {
     "name": "stdout",
     "output_type": "stream",
     "text": [
      "Mean absolute error: 1669.26\n",
      "Mean squared error: 11959368.00\n",
      "Root Mean squared error: 3458.23\n",
      "Variance score: 0.98\n"
     ]
    }
   ],
   "source": [
    "from sklearn.metrics import mean_squared_error, r2_score, mean_absolute_error\n",
    "import math\n",
    "\n",
    "print(f\"Mean absolute error:{mean_absolute_error(y_xg_test, y_pred_xg_4): .2f}\")\n",
    "print(f\"Mean squared error:{mean_squared_error(y_xg_test, y_pred_xg_4): .2f}\")\n",
    "print(f\"Root Mean squared error: {math.sqrt(mean_squared_error(y_xg_test, y_pred_xg_4)) :.2f}\")\n",
    "print(f'Variance score: {r2_score(y_xg_test, y_pred_xg_4):.2f}')"
   ]
  },
  {
   "cell_type": "markdown",
   "id": "7ff3b5e7",
   "metadata": {},
   "source": [
    "#### HPO + RF (after feature importance)"
   ]
  },
  {
   "cell_type": "code",
   "execution_count": 87,
   "id": "c133461c",
   "metadata": {},
   "outputs": [],
   "source": [
    "## Hyper Parameter Optimization\n",
    "\n",
    "params={'bootstrap': [True, False],\n",
    " 'max_depth': [10, 20, 30, 40, 50, 60, 70, 80, 90, 100, None],\n",
    " 'max_features': ['auto', 'sqrt'],\n",
    " 'min_samples_leaf': [1, 2, 4],\n",
    " 'min_samples_split': [2, 5, 10],\n",
    " 'n_estimators': [50, 100, 150, 200]}"
   ]
  },
  {
   "cell_type": "code",
   "execution_count": 88,
   "id": "34d3823c",
   "metadata": {},
   "outputs": [],
   "source": [
    "## Hyperparameter optimization using RandomizedSearchCV\n",
    "from sklearn.model_selection import RandomizedSearchCV"
   ]
  },
  {
   "cell_type": "code",
   "execution_count": 89,
   "id": "013bc876",
   "metadata": {},
   "outputs": [],
   "source": [
    "def timer(start_time=None):\n",
    "    if not start_time:\n",
    "        start_time = datetime.now()\n",
    "        return start_time\n",
    "    elif start_time:\n",
    "        thour, temp_sec = divmod((datetime.now() - start_time).total_seconds(), 3600)\n",
    "        tmin, tsec = divmod(temp_sec, 60)\n",
    "        print('\\n Time taken: %i hours %i minutes and %s seconds.' % (thour, tmin, round(tsec, 2)))"
   ]
  },
  {
   "cell_type": "code",
   "execution_count": 90,
   "id": "140f8c4a",
   "metadata": {},
   "outputs": [],
   "source": [
    "from sklearn.ensemble import RandomForestRegressor\n",
    "rf_new = RandomForestRegressor()"
   ]
  },
  {
   "cell_type": "code",
   "execution_count": 91,
   "id": "f82d457f",
   "metadata": {},
   "outputs": [],
   "source": [
    "rf_random = RandomizedSearchCV(estimator = rf_new, param_distributions = params, n_iter = 1, cv = 5, verbose=2, random_state=42, n_jobs = -1)"
   ]
  },
  {
   "cell_type": "code",
   "execution_count": 92,
   "id": "bb46a753",
   "metadata": {},
   "outputs": [
    {
     "name": "stdout",
     "output_type": "stream",
     "text": [
      "Fitting 5 folds for each of 1 candidates, totalling 5 fits\n",
      "\n",
      " Time taken: 0 hours 2 minutes and 8.92 seconds.\n",
      "[CV] END bootstrap=False, max_depth=50, max_features=sqrt, min_samples_leaf=1, min_samples_split=10, n_estimators=150; total time= 1.1min\n",
      "[CV] END bootstrap=False, max_depth=50, max_features=sqrt, min_samples_leaf=1, min_samples_split=10, n_estimators=150; total time= 1.1min\n",
      "[CV] END bootstrap=False, max_depth=50, max_features=sqrt, min_samples_leaf=1, min_samples_split=10, n_estimators=150; total time= 1.1min\n",
      "[CV] END bootstrap=False, max_depth=50, max_features=sqrt, min_samples_leaf=1, min_samples_split=10, n_estimators=150; total time= 1.1min\n",
      "[CV] END bootstrap=False, max_depth=50, max_features=sqrt, min_samples_leaf=1, min_samples_split=10, n_estimators=150; total time= 1.1min\n"
     ]
    }
   ],
   "source": [
    "from datetime import datetime\n",
    "# Here we go\n",
    "start_time = timer(None) # timing starts from this point for \"start_time\" variable\n",
    "rf_random.fit(X_rf,y_rf)\n",
    "timer(start_time) # timing ends here for \"start_time\" variable"
   ]
  },
  {
   "cell_type": "code",
   "execution_count": 93,
   "id": "ee61693f",
   "metadata": {},
   "outputs": [
    {
     "data": {
      "text/html": [
       "<div>\n",
       "<style scoped>\n",
       "    .dataframe tbody tr th:only-of-type {\n",
       "        vertical-align: middle;\n",
       "    }\n",
       "\n",
       "    .dataframe tbody tr th {\n",
       "        vertical-align: top;\n",
       "    }\n",
       "\n",
       "    .dataframe thead th {\n",
       "        text-align: right;\n",
       "    }\n",
       "</style>\n",
       "<table border=\"1\" class=\"dataframe\">\n",
       "  <thead>\n",
       "    <tr style=\"text-align: right;\">\n",
       "      <th></th>\n",
       "      <th>Store</th>\n",
       "      <th>Dept</th>\n",
       "      <th>IsHoliday</th>\n",
       "      <th>Temperature</th>\n",
       "      <th>Fuel_Price</th>\n",
       "      <th>CPI</th>\n",
       "      <th>Unemployment</th>\n",
       "      <th>Size</th>\n",
       "      <th>Year</th>\n",
       "      <th>Month</th>\n",
       "      <th>Week</th>\n",
       "      <th>Type_B</th>\n",
       "      <th>Type_C</th>\n",
       "    </tr>\n",
       "  </thead>\n",
       "  <tbody>\n",
       "    <tr>\n",
       "      <th>0</th>\n",
       "      <td>1</td>\n",
       "      <td>1</td>\n",
       "      <td>0</td>\n",
       "      <td>42.31</td>\n",
       "      <td>2.572</td>\n",
       "      <td>211.096358</td>\n",
       "      <td>8.106</td>\n",
       "      <td>151315</td>\n",
       "      <td>2010</td>\n",
       "      <td>2</td>\n",
       "      <td>5</td>\n",
       "      <td>0</td>\n",
       "      <td>0</td>\n",
       "    </tr>\n",
       "    <tr>\n",
       "      <th>1</th>\n",
       "      <td>1</td>\n",
       "      <td>2</td>\n",
       "      <td>0</td>\n",
       "      <td>42.31</td>\n",
       "      <td>2.572</td>\n",
       "      <td>211.096358</td>\n",
       "      <td>8.106</td>\n",
       "      <td>151315</td>\n",
       "      <td>2010</td>\n",
       "      <td>2</td>\n",
       "      <td>5</td>\n",
       "      <td>0</td>\n",
       "      <td>0</td>\n",
       "    </tr>\n",
       "    <tr>\n",
       "      <th>2</th>\n",
       "      <td>1</td>\n",
       "      <td>3</td>\n",
       "      <td>0</td>\n",
       "      <td>42.31</td>\n",
       "      <td>2.572</td>\n",
       "      <td>211.096358</td>\n",
       "      <td>8.106</td>\n",
       "      <td>151315</td>\n",
       "      <td>2010</td>\n",
       "      <td>2</td>\n",
       "      <td>5</td>\n",
       "      <td>0</td>\n",
       "      <td>0</td>\n",
       "    </tr>\n",
       "    <tr>\n",
       "      <th>3</th>\n",
       "      <td>1</td>\n",
       "      <td>4</td>\n",
       "      <td>0</td>\n",
       "      <td>42.31</td>\n",
       "      <td>2.572</td>\n",
       "      <td>211.096358</td>\n",
       "      <td>8.106</td>\n",
       "      <td>151315</td>\n",
       "      <td>2010</td>\n",
       "      <td>2</td>\n",
       "      <td>5</td>\n",
       "      <td>0</td>\n",
       "      <td>0</td>\n",
       "    </tr>\n",
       "    <tr>\n",
       "      <th>4</th>\n",
       "      <td>1</td>\n",
       "      <td>5</td>\n",
       "      <td>0</td>\n",
       "      <td>42.31</td>\n",
       "      <td>2.572</td>\n",
       "      <td>211.096358</td>\n",
       "      <td>8.106</td>\n",
       "      <td>151315</td>\n",
       "      <td>2010</td>\n",
       "      <td>2</td>\n",
       "      <td>5</td>\n",
       "      <td>0</td>\n",
       "      <td>0</td>\n",
       "    </tr>\n",
       "  </tbody>\n",
       "</table>\n",
       "</div>"
      ],
      "text/plain": [
       "   Store  Dept  IsHoliday  Temperature  Fuel_Price         CPI  Unemployment  \\\n",
       "0      1     1          0        42.31       2.572  211.096358         8.106   \n",
       "1      1     2          0        42.31       2.572  211.096358         8.106   \n",
       "2      1     3          0        42.31       2.572  211.096358         8.106   \n",
       "3      1     4          0        42.31       2.572  211.096358         8.106   \n",
       "4      1     5          0        42.31       2.572  211.096358         8.106   \n",
       "\n",
       "     Size  Year  Month  Week  Type_B  Type_C  \n",
       "0  151315  2010      2     5       0       0  \n",
       "1  151315  2010      2     5       0       0  \n",
       "2  151315  2010      2     5       0       0  \n",
       "3  151315  2010      2     5       0       0  \n",
       "4  151315  2010      2     5       0       0  "
      ]
     },
     "execution_count": 93,
     "metadata": {},
     "output_type": "execute_result"
    }
   ],
   "source": [
    "X.head()"
   ]
  },
  {
   "cell_type": "code",
   "execution_count": 94,
   "id": "5d634269",
   "metadata": {},
   "outputs": [
    {
     "data": {
      "text/plain": [
       "RandomForestRegressor(bootstrap=False, max_depth=50, max_features='sqrt',\n",
       "                      min_samples_split=10, n_estimators=150)"
      ]
     },
     "execution_count": 94,
     "metadata": {},
     "output_type": "execute_result"
    }
   ],
   "source": [
    "rf_random.best_estimator_"
   ]
  },
  {
   "cell_type": "code",
   "execution_count": 95,
   "id": "466cca52",
   "metadata": {},
   "outputs": [
    {
     "data": {
      "text/plain": [
       "{'n_estimators': 150,\n",
       " 'min_samples_split': 10,\n",
       " 'min_samples_leaf': 1,\n",
       " 'max_features': 'sqrt',\n",
       " 'max_depth': 50,\n",
       " 'bootstrap': False}"
      ]
     },
     "execution_count": 95,
     "metadata": {},
     "output_type": "execute_result"
    }
   ],
   "source": [
    "rf_random.best_params_"
   ]
  },
  {
   "cell_type": "code",
   "execution_count": 97,
   "id": "99ba130f",
   "metadata": {},
   "outputs": [],
   "source": [
    "rf = RandomForestRegressor(bootstrap=False, max_depth=50, max_features='sqrt',\n",
    "                      min_samples_split=10, n_estimators=150)\n",
    "rf.fit(X_train, y_train)\n",
    "y_pred_rf = rf.predict(X_test)"
   ]
  },
  {
   "cell_type": "code",
   "execution_count": 98,
   "id": "39fc5d5a",
   "metadata": {},
   "outputs": [
    {
     "name": "stdout",
     "output_type": "stream",
     "text": [
      "Mean squared error: 127783091.46\n",
      "Root Mean squared error: 11304.12\n",
      "Variance score: 0.76\n"
     ]
    }
   ],
   "source": [
    "print(f\"Mean squared error:{mean_squared_error(y_test, y_pred_rf): .2f}\")\n",
    "print(f\"Root Mean squared error: {math.sqrt(mean_squared_error(y_test, y_pred_rf)) :.2f}\")\n",
    "print(f'Variance score: {r2_score(y_test, y_pred_rf):.2f}')"
   ]
  },
  {
   "cell_type": "code",
   "execution_count": 99,
   "id": "a7de4ff1",
   "metadata": {},
   "outputs": [],
   "source": [
    "rf_ = RandomForestRegressor(random_state=42, n_estimators=10)\n",
    "rf_.fit(X_rf_train, y_rf_train)\n",
    "y_pred_rf_ = rf_.predict(X_rf_test)"
   ]
  },
  {
   "cell_type": "code",
   "execution_count": 100,
   "id": "687a658b",
   "metadata": {},
   "outputs": [
    {
     "name": "stdout",
     "output_type": "stream",
     "text": [
      "Mean absolute error: 1485.44\n",
      "Mean squared error: 13522815.02\n",
      "Root Mean squared error: 3677.34\n",
      "Variance score: 1.00\n"
     ]
    }
   ],
   "source": [
    "from sklearn.metrics import mean_squared_error, r2_score, mean_absolute_error\n",
    "import math\n",
    "\n",
    "print(f\"Mean absolute error:{mean_absolute_error(y_rf_test, y_pred_rf_): .2f}\")\n",
    "print(f\"Mean squared error:{mean_squared_error(y_rf_test, y_pred_rf_): .2f}\")\n",
    "print(f\"Root Mean squared error: {math.sqrt(mean_squared_error(y_rf_test, y_pred_rf_)) :.2f}\")\n",
    "print(f'Variance score: {r2_score(y_rf_test, y_rf_test):.2f}')"
   ]
  }
 ],
 "metadata": {
  "kernelspec": {
   "display_name": "Python 3 (ipykernel)",
   "language": "python",
   "name": "python3"
  },
  "language_info": {
   "codemirror_mode": {
    "name": "ipython",
    "version": 3
   },
   "file_extension": ".py",
   "mimetype": "text/x-python",
   "name": "python",
   "nbconvert_exporter": "python",
   "pygments_lexer": "ipython3",
   "version": "3.9.7"
  }
 },
 "nbformat": 4,
 "nbformat_minor": 5
}
